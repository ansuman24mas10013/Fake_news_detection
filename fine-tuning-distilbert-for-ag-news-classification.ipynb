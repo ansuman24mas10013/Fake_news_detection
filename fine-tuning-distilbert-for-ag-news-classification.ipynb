{
 "cells": [
  {
   "cell_type": "markdown",
   "id": "c7133e94",
   "metadata": {
    "papermill": {
     "duration": 0.013492,
     "end_time": "2025-05-03T16:03:02.965511",
     "exception": false,
     "start_time": "2025-05-03T16:03:02.952019",
     "status": "completed"
    },
    "tags": []
   },
   "source": [
    "### Import packages"
   ]
  },
  {
   "cell_type": "code",
   "execution_count": 1,
   "id": "7493d0e7",
   "metadata": {
    "execution": {
     "iopub.execute_input": "2025-05-03T16:03:02.991250Z",
     "iopub.status.busy": "2025-05-03T16:03:02.990414Z",
     "iopub.status.idle": "2025-05-03T16:03:36.869288Z",
     "shell.execute_reply": "2025-05-03T16:03:36.868656Z"
    },
    "papermill": {
     "duration": 33.892986,
     "end_time": "2025-05-03T16:03:36.870592",
     "exception": false,
     "start_time": "2025-05-03T16:03:02.977606",
     "status": "completed"
    },
    "tags": []
   },
   "outputs": [
    {
     "name": "stderr",
     "output_type": "stream",
     "text": [
      "2025-05-03 16:03:23.671804: E external/local_xla/xla/stream_executor/cuda/cuda_fft.cc:477] Unable to register cuFFT factory: Attempting to register factory for plugin cuFFT when one has already been registered\n",
      "WARNING: All log messages before absl::InitializeLog() is called are written to STDERR\n",
      "E0000 00:00:1746288203.889081      19 cuda_dnn.cc:8310] Unable to register cuDNN factory: Attempting to register factory for plugin cuDNN when one has already been registered\n",
      "E0000 00:00:1746288203.957571      19 cuda_blas.cc:1418] Unable to register cuBLAS factory: Attempting to register factory for plugin cuBLAS when one has already been registered\n"
     ]
    }
   ],
   "source": [
    "import torch\n",
    "import pandas as pd\n",
    "import numpy as np\n",
    "import re\n",
    "import string\n",
    "import matplotlib.pyplot as plt\n",
    "from datasets import Dataset\n",
    "import wandb\n",
    "from transformers import AutoTokenizer\n",
    "from transformers import DistilBertTokenizerFast, DistilBertForSequenceClassification\n",
    "from transformers import Trainer, TrainingArguments, EarlyStoppingCallback\n",
    "from sklearn.metrics import accuracy_score, f1_score"
   ]
  },
  {
   "cell_type": "markdown",
   "id": "9cef0e13",
   "metadata": {
    "papermill": {
     "duration": 0.012094,
     "end_time": "2025-05-03T16:03:36.895228",
     "exception": false,
     "start_time": "2025-05-03T16:03:36.883134",
     "status": "completed"
    },
    "tags": []
   },
   "source": [
    "### Load dataset"
   ]
  },
  {
   "cell_type": "code",
   "execution_count": 2,
   "id": "e2eb7683",
   "metadata": {
    "execution": {
     "iopub.execute_input": "2025-05-03T16:03:36.921508Z",
     "iopub.status.busy": "2025-05-03T16:03:36.920476Z",
     "iopub.status.idle": "2025-05-03T16:03:37.736273Z",
     "shell.execute_reply": "2025-05-03T16:03:37.735465Z"
    },
    "papermill": {
     "duration": 0.83048,
     "end_time": "2025-05-03T16:03:37.737579",
     "exception": false,
     "start_time": "2025-05-03T16:03:36.907099",
     "status": "completed"
    },
    "tags": []
   },
   "outputs": [
    {
     "data": {
      "text/html": [
       "<div>\n",
       "<style scoped>\n",
       "    .dataframe tbody tr th:only-of-type {\n",
       "        vertical-align: middle;\n",
       "    }\n",
       "\n",
       "    .dataframe tbody tr th {\n",
       "        vertical-align: top;\n",
       "    }\n",
       "\n",
       "    .dataframe thead th {\n",
       "        text-align: right;\n",
       "    }\n",
       "</style>\n",
       "<table border=\"1\" class=\"dataframe\">\n",
       "  <thead>\n",
       "    <tr style=\"text-align: right;\">\n",
       "      <th></th>\n",
       "      <th>Class Index</th>\n",
       "      <th>Title</th>\n",
       "      <th>Description</th>\n",
       "    </tr>\n",
       "  </thead>\n",
       "  <tbody>\n",
       "    <tr>\n",
       "      <th>0</th>\n",
       "      <td>3</td>\n",
       "      <td>Wall St. Bears Claw Back Into the Black (Reuters)</td>\n",
       "      <td>Reuters - Short-sellers, Wall Street's dwindli...</td>\n",
       "    </tr>\n",
       "    <tr>\n",
       "      <th>1</th>\n",
       "      <td>3</td>\n",
       "      <td>Carlyle Looks Toward Commercial Aerospace (Reu...</td>\n",
       "      <td>Reuters - Private investment firm Carlyle Grou...</td>\n",
       "    </tr>\n",
       "    <tr>\n",
       "      <th>2</th>\n",
       "      <td>3</td>\n",
       "      <td>Oil and Economy Cloud Stocks' Outlook (Reuters)</td>\n",
       "      <td>Reuters - Soaring crude prices plus worries\\ab...</td>\n",
       "    </tr>\n",
       "    <tr>\n",
       "      <th>3</th>\n",
       "      <td>3</td>\n",
       "      <td>Iraq Halts Oil Exports from Main Southern Pipe...</td>\n",
       "      <td>Reuters - Authorities have halted oil export\\f...</td>\n",
       "    </tr>\n",
       "    <tr>\n",
       "      <th>4</th>\n",
       "      <td>3</td>\n",
       "      <td>Oil prices soar to all-time record, posing new...</td>\n",
       "      <td>AFP - Tearaway world oil prices, toppling reco...</td>\n",
       "    </tr>\n",
       "  </tbody>\n",
       "</table>\n",
       "</div>"
      ],
      "text/plain": [
       "   Class Index                                              Title  \\\n",
       "0            3  Wall St. Bears Claw Back Into the Black (Reuters)   \n",
       "1            3  Carlyle Looks Toward Commercial Aerospace (Reu...   \n",
       "2            3    Oil and Economy Cloud Stocks' Outlook (Reuters)   \n",
       "3            3  Iraq Halts Oil Exports from Main Southern Pipe...   \n",
       "4            3  Oil prices soar to all-time record, posing new...   \n",
       "\n",
       "                                         Description  \n",
       "0  Reuters - Short-sellers, Wall Street's dwindli...  \n",
       "1  Reuters - Private investment firm Carlyle Grou...  \n",
       "2  Reuters - Soaring crude prices plus worries\\ab...  \n",
       "3  Reuters - Authorities have halted oil export\\f...  \n",
       "4  AFP - Tearaway world oil prices, toppling reco...  "
      ]
     },
     "execution_count": 2,
     "metadata": {},
     "output_type": "execute_result"
    }
   ],
   "source": [
    "data = pd.read_csv('/kaggle/input/ag-news-classification-dataset/train.csv')\n",
    "test_data = pd.read_csv('/kaggle/input/ag-news-classification-dataset/test.csv')\n",
    "data.head() "
   ]
  },
  {
   "cell_type": "markdown",
   "id": "7202c297",
   "metadata": {
    "papermill": {
     "duration": 0.01189,
     "end_time": "2025-05-03T16:03:37.762635",
     "exception": false,
     "start_time": "2025-05-03T16:03:37.750745",
     "status": "completed"
    },
    "tags": []
   },
   "source": [
    "#### some explorations"
   ]
  },
  {
   "cell_type": "code",
   "execution_count": 3,
   "id": "65da3e9f",
   "metadata": {
    "execution": {
     "iopub.execute_input": "2025-05-03T16:03:37.787454Z",
     "iopub.status.busy": "2025-05-03T16:03:37.787199Z",
     "iopub.status.idle": "2025-05-03T16:03:37.791729Z",
     "shell.execute_reply": "2025-05-03T16:03:37.791187Z"
    },
    "papermill": {
     "duration": 0.018264,
     "end_time": "2025-05-03T16:03:37.792777",
     "exception": false,
     "start_time": "2025-05-03T16:03:37.774513",
     "status": "completed"
    },
    "tags": []
   },
   "outputs": [
    {
     "data": {
      "text/plain": [
       "((120000, 3), (7600, 3))"
      ]
     },
     "execution_count": 3,
     "metadata": {},
     "output_type": "execute_result"
    }
   ],
   "source": [
    "data.shape, test_data.shape"
   ]
  },
  {
   "cell_type": "code",
   "execution_count": 4,
   "id": "6407ad90",
   "metadata": {
    "execution": {
     "iopub.execute_input": "2025-05-03T16:03:37.818283Z",
     "iopub.status.busy": "2025-05-03T16:03:37.818048Z",
     "iopub.status.idle": "2025-05-03T16:03:37.827499Z",
     "shell.execute_reply": "2025-05-03T16:03:37.826950Z"
    },
    "papermill": {
     "duration": 0.023459,
     "end_time": "2025-05-03T16:03:37.828572",
     "exception": false,
     "start_time": "2025-05-03T16:03:37.805113",
     "status": "completed"
    },
    "tags": []
   },
   "outputs": [
    {
     "data": {
      "text/plain": [
       "(array([3, 4, 2, 1]), array([3, 4, 2, 1]))"
      ]
     },
     "execution_count": 4,
     "metadata": {},
     "output_type": "execute_result"
    }
   ],
   "source": [
    "data['Class Index'].unique(), test_data['Class Index'].unique()"
   ]
  },
  {
   "cell_type": "code",
   "execution_count": 5,
   "id": "0498e430",
   "metadata": {
    "execution": {
     "iopub.execute_input": "2025-05-03T16:03:37.853603Z",
     "iopub.status.busy": "2025-05-03T16:03:37.853402Z",
     "iopub.status.idle": "2025-05-03T16:03:37.857541Z",
     "shell.execute_reply": "2025-05-03T16:03:37.857064Z"
    },
    "papermill": {
     "duration": 0.017483,
     "end_time": "2025-05-03T16:03:37.858479",
     "exception": false,
     "start_time": "2025-05-03T16:03:37.840996",
     "status": "completed"
    },
    "tags": []
   },
   "outputs": [],
   "source": [
    "data['Class Index'] = data['Class Index']-1\n",
    "test_data['Class Index'] = test_data['Class Index']-1"
   ]
  },
  {
   "cell_type": "code",
   "execution_count": 6,
   "id": "4fa2b2af",
   "metadata": {
    "execution": {
     "iopub.execute_input": "2025-05-03T16:03:37.883176Z",
     "iopub.status.busy": "2025-05-03T16:03:37.882832Z",
     "iopub.status.idle": "2025-05-03T16:03:37.886483Z",
     "shell.execute_reply": "2025-05-03T16:03:37.885989Z"
    },
    "papermill": {
     "duration": 0.017041,
     "end_time": "2025-05-03T16:03:37.887445",
     "exception": false,
     "start_time": "2025-05-03T16:03:37.870404",
     "status": "completed"
    },
    "tags": []
   },
   "outputs": [],
   "source": [
    "test = test_data.copy()"
   ]
  },
  {
   "cell_type": "code",
   "execution_count": 7,
   "id": "2ea5e204",
   "metadata": {
    "execution": {
     "iopub.execute_input": "2025-05-03T16:03:37.911778Z",
     "iopub.status.busy": "2025-05-03T16:03:37.911575Z",
     "iopub.status.idle": "2025-05-03T16:03:37.916803Z",
     "shell.execute_reply": "2025-05-03T16:03:37.916272Z"
    },
    "papermill": {
     "duration": 0.018532,
     "end_time": "2025-05-03T16:03:37.917820",
     "exception": false,
     "start_time": "2025-05-03T16:03:37.899288",
     "status": "completed"
    },
    "tags": []
   },
   "outputs": [
    {
     "data": {
      "text/plain": [
       "(array([2, 3, 1, 0]), array([2, 3, 1, 0]))"
      ]
     },
     "execution_count": 7,
     "metadata": {},
     "output_type": "execute_result"
    }
   ],
   "source": [
    "data['Class Index'].unique(), test['Class Index'].unique()"
   ]
  },
  {
   "cell_type": "markdown",
   "id": "8ed904a2",
   "metadata": {
    "papermill": {
     "duration": 0.011945,
     "end_time": "2025-05-03T16:03:37.942152",
     "exception": false,
     "start_time": "2025-05-03T16:03:37.930207",
     "status": "completed"
    },
    "tags": []
   },
   "source": [
    "### AG News Labels:\n",
    "### 0: World\n",
    "### 1: Sports\n",
    "### 2: Business\n",
    "### 3: Sci/Tech\n"
   ]
  },
  {
   "cell_type": "code",
   "execution_count": 8,
   "id": "e43c5ac6",
   "metadata": {
    "execution": {
     "iopub.execute_input": "2025-05-03T16:03:37.967650Z",
     "iopub.status.busy": "2025-05-03T16:03:37.967016Z",
     "iopub.status.idle": "2025-05-03T16:03:37.975925Z",
     "shell.execute_reply": "2025-05-03T16:03:37.975155Z"
    },
    "papermill": {
     "duration": 0.022796,
     "end_time": "2025-05-03T16:03:37.977042",
     "exception": false,
     "start_time": "2025-05-03T16:03:37.954246",
     "status": "completed"
    },
    "tags": []
   },
   "outputs": [
    {
     "data": {
      "text/plain": [
       "Class Index\n",
       "2    30000\n",
       "3    30000\n",
       "1    30000\n",
       "0    30000\n",
       "Name: count, dtype: int64"
      ]
     },
     "execution_count": 8,
     "metadata": {},
     "output_type": "execute_result"
    }
   ],
   "source": [
    "data['Class Index'].value_counts()"
   ]
  },
  {
   "cell_type": "code",
   "execution_count": 9,
   "id": "15e9ee51",
   "metadata": {
    "execution": {
     "iopub.execute_input": "2025-05-03T16:03:38.002100Z",
     "iopub.status.busy": "2025-05-03T16:03:38.001903Z",
     "iopub.status.idle": "2025-05-03T16:03:38.007740Z",
     "shell.execute_reply": "2025-05-03T16:03:38.007096Z"
    },
    "papermill": {
     "duration": 0.019601,
     "end_time": "2025-05-03T16:03:38.008785",
     "exception": false,
     "start_time": "2025-05-03T16:03:37.989184",
     "status": "completed"
    },
    "tags": []
   },
   "outputs": [
    {
     "data": {
      "text/plain": [
       "Class Index\n",
       "2    1900\n",
       "3    1900\n",
       "1    1900\n",
       "0    1900\n",
       "Name: count, dtype: int64"
      ]
     },
     "execution_count": 9,
     "metadata": {},
     "output_type": "execute_result"
    }
   ],
   "source": [
    "test['Class Index'].value_counts()"
   ]
  },
  {
   "cell_type": "code",
   "execution_count": 10,
   "id": "d5f24f45",
   "metadata": {
    "execution": {
     "iopub.execute_input": "2025-05-03T16:03:38.033884Z",
     "iopub.status.busy": "2025-05-03T16:03:38.033682Z",
     "iopub.status.idle": "2025-05-03T16:03:38.054835Z",
     "shell.execute_reply": "2025-05-03T16:03:38.053991Z"
    },
    "papermill": {
     "duration": 0.034948,
     "end_time": "2025-05-03T16:03:38.055947",
     "exception": false,
     "start_time": "2025-05-03T16:03:38.020999",
     "status": "completed"
    },
    "tags": []
   },
   "outputs": [
    {
     "data": {
      "text/plain": [
       "Class Index    0\n",
       "Title          0\n",
       "Description    0\n",
       "dtype: int64"
      ]
     },
     "execution_count": 10,
     "metadata": {},
     "output_type": "execute_result"
    }
   ],
   "source": [
    "data.isnull().sum()"
   ]
  },
  {
   "cell_type": "code",
   "execution_count": 11,
   "id": "687ce10e",
   "metadata": {
    "execution": {
     "iopub.execute_input": "2025-05-03T16:03:38.130156Z",
     "iopub.status.busy": "2025-05-03T16:03:38.129578Z",
     "iopub.status.idle": "2025-05-03T16:03:38.134041Z",
     "shell.execute_reply": "2025-05-03T16:03:38.133437Z"
    },
    "papermill": {
     "duration": 0.018912,
     "end_time": "2025-05-03T16:03:38.135140",
     "exception": false,
     "start_time": "2025-05-03T16:03:38.116228",
     "status": "completed"
    },
    "tags": []
   },
   "outputs": [
    {
     "data": {
      "text/plain": [
       "'Reuters - Soaring crude prices plus worries\\\\about the economy and the outlook for earnings are expected to\\\\hang over the stock market next week during the depth of the\\\\summer doldrums.'"
      ]
     },
     "execution_count": 11,
     "metadata": {},
     "output_type": "execute_result"
    }
   ],
   "source": [
    "data['Description'][2]"
   ]
  },
  {
   "cell_type": "code",
   "execution_count": 12,
   "id": "1a637170",
   "metadata": {
    "execution": {
     "iopub.execute_input": "2025-05-03T16:03:38.161036Z",
     "iopub.status.busy": "2025-05-03T16:03:38.160592Z",
     "iopub.status.idle": "2025-05-03T16:03:38.165026Z",
     "shell.execute_reply": "2025-05-03T16:03:38.164465Z"
    },
    "papermill": {
     "duration": 0.018521,
     "end_time": "2025-05-03T16:03:38.166114",
     "exception": false,
     "start_time": "2025-05-03T16:03:38.147593",
     "status": "completed"
    },
    "tags": []
   },
   "outputs": [
    {
     "data": {
      "text/plain": [
       "'Reuters - Authorities have halted oil export\\\\flows from the main pipeline in southern Iraq after\\\\intelligence showed a rebel militia could strike\\\\infrastructure, an oil official said on Saturday.'"
      ]
     },
     "execution_count": 12,
     "metadata": {},
     "output_type": "execute_result"
    }
   ],
   "source": [
    "data['Description'][3]"
   ]
  },
  {
   "cell_type": "code",
   "execution_count": 13,
   "id": "50e2c560",
   "metadata": {
    "execution": {
     "iopub.execute_input": "2025-05-03T16:03:38.193011Z",
     "iopub.status.busy": "2025-05-03T16:03:38.192217Z",
     "iopub.status.idle": "2025-05-03T16:03:38.235804Z",
     "shell.execute_reply": "2025-05-03T16:03:38.234871Z"
    },
    "papermill": {
     "duration": 0.058378,
     "end_time": "2025-05-03T16:03:38.237144",
     "exception": false,
     "start_time": "2025-05-03T16:03:38.178766",
     "status": "completed"
    },
    "tags": []
   },
   "outputs": [
    {
     "name": "stdout",
     "output_type": "stream",
     "text": [
      "\\ in  12522 samples\n",
      "\\n in  0 samples\n",
      "douple space in  0 samples\n"
     ]
    }
   ],
   "source": [
    "slash = 0\n",
    "slash_n = 0\n",
    "douple_space = 0\n",
    "for text in data['Description']:\n",
    "    if '\\\\' in text:\n",
    "        slash+=1\n",
    "    if '\\n'in text:\n",
    "        slash_n+=1\n",
    "    if r'\\s+' in text:\n",
    "        douple_space+=1\n",
    "\n",
    "print('\\\\ in ',slash, 'samples')\n",
    "print('\\\\n in ',slash_n, 'samples')\n",
    "print('douple space in ',douple_space, 'samples')\n"
   ]
  },
  {
   "cell_type": "markdown",
   "id": "8795d275",
   "metadata": {
    "papermill": {
     "duration": 0.012505,
     "end_time": "2025-05-03T16:03:38.262743",
     "exception": false,
     "start_time": "2025-05-03T16:03:38.250238",
     "status": "completed"
    },
    "tags": []
   },
   "source": [
    "### Data preprocessing"
   ]
  },
  {
   "cell_type": "code",
   "execution_count": 14,
   "id": "c354974c",
   "metadata": {
    "execution": {
     "iopub.execute_input": "2025-05-03T16:03:38.289140Z",
     "iopub.status.busy": "2025-05-03T16:03:38.288837Z",
     "iopub.status.idle": "2025-05-03T16:03:38.350038Z",
     "shell.execute_reply": "2025-05-03T16:03:38.349399Z"
    },
    "papermill": {
     "duration": 0.076034,
     "end_time": "2025-05-03T16:03:38.351458",
     "exception": false,
     "start_time": "2025-05-03T16:03:38.275424",
     "status": "completed"
    },
    "tags": []
   },
   "outputs": [],
   "source": [
    "# Concatenate Title + Description\n",
    "data['text'] = data['Title'] + \" \" + data['Description']\n",
    "test['text'] = test['Title'] + \" \" + test['Description']"
   ]
  },
  {
   "cell_type": "code",
   "execution_count": 15,
   "id": "77b13db2",
   "metadata": {
    "execution": {
     "iopub.execute_input": "2025-05-03T16:03:38.379511Z",
     "iopub.status.busy": "2025-05-03T16:03:38.379256Z",
     "iopub.status.idle": "2025-05-03T16:03:38.397194Z",
     "shell.execute_reply": "2025-05-03T16:03:38.396395Z"
    },
    "papermill": {
     "duration": 0.03372,
     "end_time": "2025-05-03T16:03:38.398884",
     "exception": false,
     "start_time": "2025-05-03T16:03:38.365164",
     "status": "completed"
    },
    "tags": []
   },
   "outputs": [],
   "source": [
    "data = data.drop(columns=['Title', 'Description'])\n",
    "test = test.drop(columns=['Title', 'Description'])"
   ]
  },
  {
   "cell_type": "code",
   "execution_count": 16,
   "id": "32a505ea",
   "metadata": {
    "execution": {
     "iopub.execute_input": "2025-05-03T16:03:38.427089Z",
     "iopub.status.busy": "2025-05-03T16:03:38.426578Z",
     "iopub.status.idle": "2025-05-03T16:03:38.433533Z",
     "shell.execute_reply": "2025-05-03T16:03:38.432934Z"
    },
    "papermill": {
     "duration": 0.021903,
     "end_time": "2025-05-03T16:03:38.434599",
     "exception": false,
     "start_time": "2025-05-03T16:03:38.412696",
     "status": "completed"
    },
    "tags": []
   },
   "outputs": [
    {
     "data": {
      "text/html": [
       "<div>\n",
       "<style scoped>\n",
       "    .dataframe tbody tr th:only-of-type {\n",
       "        vertical-align: middle;\n",
       "    }\n",
       "\n",
       "    .dataframe tbody tr th {\n",
       "        vertical-align: top;\n",
       "    }\n",
       "\n",
       "    .dataframe thead th {\n",
       "        text-align: right;\n",
       "    }\n",
       "</style>\n",
       "<table border=\"1\" class=\"dataframe\">\n",
       "  <thead>\n",
       "    <tr style=\"text-align: right;\">\n",
       "      <th></th>\n",
       "      <th>Class Index</th>\n",
       "      <th>text</th>\n",
       "    </tr>\n",
       "  </thead>\n",
       "  <tbody>\n",
       "    <tr>\n",
       "      <th>0</th>\n",
       "      <td>2</td>\n",
       "      <td>Wall St. Bears Claw Back Into the Black (Reute...</td>\n",
       "    </tr>\n",
       "    <tr>\n",
       "      <th>1</th>\n",
       "      <td>2</td>\n",
       "      <td>Carlyle Looks Toward Commercial Aerospace (Reu...</td>\n",
       "    </tr>\n",
       "    <tr>\n",
       "      <th>2</th>\n",
       "      <td>2</td>\n",
       "      <td>Oil and Economy Cloud Stocks' Outlook (Reuters...</td>\n",
       "    </tr>\n",
       "    <tr>\n",
       "      <th>3</th>\n",
       "      <td>2</td>\n",
       "      <td>Iraq Halts Oil Exports from Main Southern Pipe...</td>\n",
       "    </tr>\n",
       "    <tr>\n",
       "      <th>4</th>\n",
       "      <td>2</td>\n",
       "      <td>Oil prices soar to all-time record, posing new...</td>\n",
       "    </tr>\n",
       "  </tbody>\n",
       "</table>\n",
       "</div>"
      ],
      "text/plain": [
       "   Class Index                                               text\n",
       "0            2  Wall St. Bears Claw Back Into the Black (Reute...\n",
       "1            2  Carlyle Looks Toward Commercial Aerospace (Reu...\n",
       "2            2  Oil and Economy Cloud Stocks' Outlook (Reuters...\n",
       "3            2  Iraq Halts Oil Exports from Main Southern Pipe...\n",
       "4            2  Oil prices soar to all-time record, posing new..."
      ]
     },
     "execution_count": 16,
     "metadata": {},
     "output_type": "execute_result"
    }
   ],
   "source": [
    "data.head()"
   ]
  },
  {
   "cell_type": "code",
   "execution_count": 17,
   "id": "5253f3b8",
   "metadata": {
    "execution": {
     "iopub.execute_input": "2025-05-03T16:03:38.461476Z",
     "iopub.status.busy": "2025-05-03T16:03:38.461243Z",
     "iopub.status.idle": "2025-05-03T16:03:38.464823Z",
     "shell.execute_reply": "2025-05-03T16:03:38.464324Z"
    },
    "papermill": {
     "duration": 0.018066,
     "end_time": "2025-05-03T16:03:38.465841",
     "exception": false,
     "start_time": "2025-05-03T16:03:38.447775",
     "status": "completed"
    },
    "tags": []
   },
   "outputs": [],
   "source": [
    "def clean(text):\n",
    "    text = re.sub(f\"[{re.escape(string.punctuation)}]\", \" \", text)\n",
    "    text = re.sub(r'\\s+', ' ', text)\n",
    "    text = text.lower()\n",
    "    return text"
   ]
  },
  {
   "cell_type": "code",
   "execution_count": 18,
   "id": "146a40ec",
   "metadata": {
    "execution": {
     "iopub.execute_input": "2025-05-03T16:03:38.492319Z",
     "iopub.status.busy": "2025-05-03T16:03:38.492138Z",
     "iopub.status.idle": "2025-05-03T16:03:41.063492Z",
     "shell.execute_reply": "2025-05-03T16:03:41.062754Z"
    },
    "papermill": {
     "duration": 2.586069,
     "end_time": "2025-05-03T16:03:41.064772",
     "exception": false,
     "start_time": "2025-05-03T16:03:38.478703",
     "status": "completed"
    },
    "tags": []
   },
   "outputs": [
    {
     "data": {
      "text/plain": [
       "'iraq halts oil exports from main southern pipeline reuters reuters authorities have halted oil export flows from the main pipeline in southern iraq after intelligence showed a rebel militia could strike infrastructure an oil official said on saturday '"
      ]
     },
     "execution_count": 18,
     "metadata": {},
     "output_type": "execute_result"
    }
   ],
   "source": [
    "data['text'] = data['text'].apply(lambda x: clean(x))\n",
    "test['text'] = test['text'].apply(lambda x: clean(x))\n",
    "\n",
    "data['text'][3]"
   ]
  },
  {
   "cell_type": "code",
   "execution_count": 19,
   "id": "9cbcb9c0",
   "metadata": {
    "execution": {
     "iopub.execute_input": "2025-05-03T16:03:41.092561Z",
     "iopub.status.busy": "2025-05-03T16:03:41.091988Z",
     "iopub.status.idle": "2025-05-03T16:03:41.341030Z",
     "shell.execute_reply": "2025-05-03T16:03:41.340420Z"
    },
    "papermill": {
     "duration": 0.264019,
     "end_time": "2025-05-03T16:03:41.342374",
     "exception": false,
     "start_time": "2025-05-03T16:03:41.078355",
     "status": "completed"
    },
    "tags": []
   },
   "outputs": [],
   "source": [
    "# Convert Pandas DataFrame to HuggingFace Dataset\n",
    "dataset = Dataset.from_pandas(data)\n",
    "testing = Dataset.from_pandas(test)"
   ]
  },
  {
   "cell_type": "code",
   "execution_count": 20,
   "id": "d0739190",
   "metadata": {
    "execution": {
     "iopub.execute_input": "2025-05-03T16:03:41.372629Z",
     "iopub.status.busy": "2025-05-03T16:03:41.372195Z",
     "iopub.status.idle": "2025-05-03T16:04:16.173748Z",
     "shell.execute_reply": "2025-05-03T16:04:16.172998Z"
    },
    "papermill": {
     "duration": 34.816754,
     "end_time": "2025-05-03T16:04:16.175006",
     "exception": false,
     "start_time": "2025-05-03T16:03:41.358252",
     "status": "completed"
    },
    "tags": []
   },
   "outputs": [
    {
     "data": {
      "application/vnd.jupyter.widget-view+json": {
       "model_id": "93e3bade593148a4becae469edcf6d72",
       "version_major": 2,
       "version_minor": 0
      },
      "text/plain": [
       "tokenizer_config.json:   0%|          | 0.00/48.0 [00:00<?, ?B/s]"
      ]
     },
     "metadata": {},
     "output_type": "display_data"
    },
    {
     "data": {
      "application/vnd.jupyter.widget-view+json": {
       "model_id": "b1da55a499cd40b4b7dabb42fe66b963",
       "version_major": 2,
       "version_minor": 0
      },
      "text/plain": [
       "config.json:   0%|          | 0.00/483 [00:00<?, ?B/s]"
      ]
     },
     "metadata": {},
     "output_type": "display_data"
    },
    {
     "data": {
      "application/vnd.jupyter.widget-view+json": {
       "model_id": "732df7939ff94c72ae8214f755c87817",
       "version_major": 2,
       "version_minor": 0
      },
      "text/plain": [
       "vocab.txt:   0%|          | 0.00/232k [00:00<?, ?B/s]"
      ]
     },
     "metadata": {},
     "output_type": "display_data"
    },
    {
     "data": {
      "application/vnd.jupyter.widget-view+json": {
       "model_id": "e4ee9bb0edc441a8be65c584813c3d01",
       "version_major": 2,
       "version_minor": 0
      },
      "text/plain": [
       "tokenizer.json:   0%|          | 0.00/466k [00:00<?, ?B/s]"
      ]
     },
     "metadata": {},
     "output_type": "display_data"
    },
    {
     "data": {
      "application/vnd.jupyter.widget-view+json": {
       "model_id": "5d0d38432c574698a74099c98d81710b",
       "version_major": 2,
       "version_minor": 0
      },
      "text/plain": [
       "Map:   0%|          | 0/120000 [00:00<?, ? examples/s]"
      ]
     },
     "metadata": {},
     "output_type": "display_data"
    },
    {
     "data": {
      "application/vnd.jupyter.widget-view+json": {
       "model_id": "424c1799cdfa457a9b6e715af9210254",
       "version_major": 2,
       "version_minor": 0
      },
      "text/plain": [
       "Map:   0%|          | 0/7600 [00:00<?, ? examples/s]"
      ]
     },
     "metadata": {},
     "output_type": "display_data"
    }
   ],
   "source": [
    "# Tokenization\n",
    "tokenizer = AutoTokenizer.from_pretrained('distilbert-base-uncased')\n",
    "\n",
    "def tokenization(examples):\n",
    "    return tokenizer(examples['text'], padding=\"max_length\", truncation=True, max_length=512)\n",
    "\n",
    "encoded_dataset = dataset.map(tokenization, batched=True)\n",
    "encoded_testing = testing.map(tokenization, batched=True)"
   ]
  },
  {
   "cell_type": "code",
   "execution_count": 21,
   "id": "e0ae0fcb",
   "metadata": {
    "execution": {
     "iopub.execute_input": "2025-05-03T16:04:16.203345Z",
     "iopub.status.busy": "2025-05-03T16:04:16.203103Z",
     "iopub.status.idle": "2025-05-03T16:04:16.209960Z",
     "shell.execute_reply": "2025-05-03T16:04:16.209283Z"
    },
    "papermill": {
     "duration": 0.021863,
     "end_time": "2025-05-03T16:04:16.211027",
     "exception": false,
     "start_time": "2025-05-03T16:04:16.189164",
     "status": "completed"
    },
    "tags": []
   },
   "outputs": [],
   "source": [
    "# Remove old text columns, keep model inputs\n",
    "encoded_dataset = encoded_dataset.rename_column('Class Index', 'labels')\n",
    "encoded_testing = encoded_testing.rename_column('Class Index', 'labels')\n",
    "\n",
    "encoded_dataset.set_format('torch')\n",
    "encoded_testing.set_format('torch')"
   ]
  },
  {
   "cell_type": "markdown",
   "id": "0d9c8169",
   "metadata": {
    "papermill": {
     "duration": 0.013066,
     "end_time": "2025-05-03T16:04:16.237374",
     "exception": false,
     "start_time": "2025-05-03T16:04:16.224308",
     "status": "completed"
    },
    "tags": []
   },
   "source": [
    "### Load model"
   ]
  },
  {
   "cell_type": "code",
   "execution_count": 22,
   "id": "9e20f805",
   "metadata": {
    "execution": {
     "iopub.execute_input": "2025-05-03T16:04:16.265367Z",
     "iopub.status.busy": "2025-05-03T16:04:16.264689Z",
     "iopub.status.idle": "2025-05-03T16:04:16.269313Z",
     "shell.execute_reply": "2025-05-03T16:04:16.268592Z"
    },
    "papermill": {
     "duration": 0.01979,
     "end_time": "2025-05-03T16:04:16.270461",
     "exception": false,
     "start_time": "2025-05-03T16:04:16.250671",
     "status": "completed"
    },
    "tags": []
   },
   "outputs": [
    {
     "name": "stdout",
     "output_type": "stream",
     "text": [
      "Using device: cuda\n"
     ]
    }
   ],
   "source": [
    "device = torch.device(\"cuda\" if torch.cuda.is_available() else \"cpu\")\n",
    "print(f\"Using device: {device}\")"
   ]
  },
  {
   "cell_type": "code",
   "execution_count": 23,
   "id": "9f966ccd",
   "metadata": {
    "execution": {
     "iopub.execute_input": "2025-05-03T16:04:16.298678Z",
     "iopub.status.busy": "2025-05-03T16:04:16.298082Z",
     "iopub.status.idle": "2025-05-03T16:04:18.277770Z",
     "shell.execute_reply": "2025-05-03T16:04:18.277023Z"
    },
    "papermill": {
     "duration": 1.99527,
     "end_time": "2025-05-03T16:04:18.279195",
     "exception": false,
     "start_time": "2025-05-03T16:04:16.283925",
     "status": "completed"
    },
    "tags": []
   },
   "outputs": [
    {
     "name": "stderr",
     "output_type": "stream",
     "text": [
      "Xet Storage is enabled for this repo, but the 'hf_xet' package is not installed. Falling back to regular HTTP download. For better performance, install the package with: `pip install huggingface_hub[hf_xet]` or `pip install hf_xet`\n"
     ]
    },
    {
     "data": {
      "application/vnd.jupyter.widget-view+json": {
       "model_id": "70fa4c2eeebb441f889da343669969f5",
       "version_major": 2,
       "version_minor": 0
      },
      "text/plain": [
       "model.safetensors:   0%|          | 0.00/268M [00:00<?, ?B/s]"
      ]
     },
     "metadata": {},
     "output_type": "display_data"
    },
    {
     "name": "stderr",
     "output_type": "stream",
     "text": [
      "Some weights of DistilBertForSequenceClassification were not initialized from the model checkpoint at distilbert-base-uncased and are newly initialized: ['classifier.bias', 'classifier.weight', 'pre_classifier.bias', 'pre_classifier.weight']\n",
      "You should probably TRAIN this model on a down-stream task to be able to use it for predictions and inference.\n"
     ]
    },
    {
     "data": {
      "text/plain": [
       "DistilBertForSequenceClassification(\n",
       "  (distilbert): DistilBertModel(\n",
       "    (embeddings): Embeddings(\n",
       "      (word_embeddings): Embedding(30522, 768, padding_idx=0)\n",
       "      (position_embeddings): Embedding(512, 768)\n",
       "      (LayerNorm): LayerNorm((768,), eps=1e-12, elementwise_affine=True)\n",
       "      (dropout): Dropout(p=0.1, inplace=False)\n",
       "    )\n",
       "    (transformer): Transformer(\n",
       "      (layer): ModuleList(\n",
       "        (0-5): 6 x TransformerBlock(\n",
       "          (attention): DistilBertSdpaAttention(\n",
       "            (dropout): Dropout(p=0.1, inplace=False)\n",
       "            (q_lin): Linear(in_features=768, out_features=768, bias=True)\n",
       "            (k_lin): Linear(in_features=768, out_features=768, bias=True)\n",
       "            (v_lin): Linear(in_features=768, out_features=768, bias=True)\n",
       "            (out_lin): Linear(in_features=768, out_features=768, bias=True)\n",
       "          )\n",
       "          (sa_layer_norm): LayerNorm((768,), eps=1e-12, elementwise_affine=True)\n",
       "          (ffn): FFN(\n",
       "            (dropout): Dropout(p=0.1, inplace=False)\n",
       "            (lin1): Linear(in_features=768, out_features=3072, bias=True)\n",
       "            (lin2): Linear(in_features=3072, out_features=768, bias=True)\n",
       "            (activation): GELUActivation()\n",
       "          )\n",
       "          (output_layer_norm): LayerNorm((768,), eps=1e-12, elementwise_affine=True)\n",
       "        )\n",
       "      )\n",
       "    )\n",
       "  )\n",
       "  (pre_classifier): Linear(in_features=768, out_features=768, bias=True)\n",
       "  (classifier): Linear(in_features=768, out_features=4, bias=True)\n",
       "  (dropout): Dropout(p=0.2, inplace=False)\n",
       ")"
      ]
     },
     "execution_count": 23,
     "metadata": {},
     "output_type": "execute_result"
    }
   ],
   "source": [
    "# Load pre-trained DistilBERT model for classification\n",
    "model = DistilBertForSequenceClassification.from_pretrained('distilbert-base-uncased', num_labels=4)\n",
    "model.to(device)"
   ]
  },
  {
   "cell_type": "code",
   "execution_count": 24,
   "id": "82918204",
   "metadata": {
    "execution": {
     "iopub.execute_input": "2025-05-03T16:04:18.317595Z",
     "iopub.status.busy": "2025-05-03T16:04:18.317004Z",
     "iopub.status.idle": "2025-05-03T16:04:18.347521Z",
     "shell.execute_reply": "2025-05-03T16:04:18.346646Z"
    },
    "papermill": {
     "duration": 0.054528,
     "end_time": "2025-05-03T16:04:18.349176",
     "exception": false,
     "start_time": "2025-05-03T16:04:18.294648",
     "status": "completed"
    },
    "tags": []
   },
   "outputs": [],
   "source": [
    "# Training arguments\n",
    "training_args = TrainingArguments(\n",
    "    output_dir=\"./results\",\n",
    "    eval_strategy=\"epoch\",       \n",
    "    save_strategy=\"epoch\",\n",
    "    learning_rate=5e-5,             # tuning\n",
    "    per_device_train_batch_size=32, # tuning \n",
    "    per_device_eval_batch_size=32,  # tuning\n",
    "    num_train_epochs=10,             # tuning\n",
    "    weight_decay=0.01,\n",
    "    load_best_model_at_end=True,\n",
    "    metric_for_best_model=\"eval_accuracy\", # eval\n",
    "    save_total_limit=1,\n",
    "    logging_dir='./logs',\n",
    "    logging_steps=50,\n",
    "    fp16=True if torch.cuda.is_available() else False\n",
    ")\n"
   ]
  },
  {
   "cell_type": "code",
   "execution_count": 25,
   "id": "a80520f6",
   "metadata": {
    "execution": {
     "iopub.execute_input": "2025-05-03T16:04:18.386407Z",
     "iopub.status.busy": "2025-05-03T16:04:18.385956Z",
     "iopub.status.idle": "2025-05-03T16:04:18.390576Z",
     "shell.execute_reply": "2025-05-03T16:04:18.389817Z"
    },
    "papermill": {
     "duration": 0.023253,
     "end_time": "2025-05-03T16:04:18.391954",
     "exception": false,
     "start_time": "2025-05-03T16:04:18.368701",
     "status": "completed"
    },
    "tags": []
   },
   "outputs": [],
   "source": [
    "# Define evaluation metrics\n",
    "def compute_metrics(pred):\n",
    "    logits, labels = pred\n",
    "    predictions = torch.argmax(torch.tensor(logits), dim=-1)\n",
    "    acc = accuracy_score(labels, predictions)\n",
    "    f1 = f1_score(labels, predictions, average=\"weighted\")\n",
    "    return {\"accuracy\": acc, \"f1\": f1}"
   ]
  },
  {
   "cell_type": "markdown",
   "id": "76131b45",
   "metadata": {
    "papermill": {
     "duration": 0.013797,
     "end_time": "2025-05-03T16:04:18.427169",
     "exception": false,
     "start_time": "2025-05-03T16:04:18.413372",
     "status": "completed"
    },
    "tags": []
   },
   "source": [
    "### Model training"
   ]
  },
  {
   "cell_type": "code",
   "execution_count": 26,
   "id": "c386d158",
   "metadata": {
    "execution": {
     "iopub.execute_input": "2025-05-03T16:04:18.456346Z",
     "iopub.status.busy": "2025-05-03T16:04:18.456067Z",
     "iopub.status.idle": "2025-05-03T16:04:21.074060Z",
     "shell.execute_reply": "2025-05-03T16:04:21.073328Z"
    },
    "papermill": {
     "duration": 2.633793,
     "end_time": "2025-05-03T16:04:21.075365",
     "exception": false,
     "start_time": "2025-05-03T16:04:18.441572",
     "status": "completed"
    },
    "tags": []
   },
   "outputs": [
    {
     "name": "stderr",
     "output_type": "stream",
     "text": [
      "\u001b[34m\u001b[1mwandb\u001b[0m: \u001b[33mWARNING\u001b[0m If you're specifying your api key in code, ensure this code is not shared publicly.\n",
      "\u001b[34m\u001b[1mwandb\u001b[0m: \u001b[33mWARNING\u001b[0m Consider setting the WANDB_API_KEY environment variable, or running `wandb login` from the command line.\n",
      "\u001b[34m\u001b[1mwandb\u001b[0m: Appending key for api.wandb.ai to your netrc file: /root/.netrc\n",
      "\u001b[34m\u001b[1mwandb\u001b[0m: Currently logged in as: \u001b[33mgehadtahoon\u001b[0m (\u001b[33mgehadtahoon-benha-university\u001b[0m) to \u001b[32mhttps://api.wandb.ai\u001b[0m. Use \u001b[1m`wandb login --relogin`\u001b[0m to force relogin\n",
      "\u001b[34m\u001b[1mwandb\u001b[0m: Using wandb-core as the SDK backend.  Please refer to https://wandb.me/wandb-core for more information.\n",
      "\u001b[34m\u001b[1mwandb\u001b[0m: Tracking run with wandb version 0.19.6\n",
      "\u001b[34m\u001b[1mwandb\u001b[0m: Run data is saved locally in \u001b[35m\u001b[1m/kaggle/working/wandb/run-20250503_160418-qr19qbew\u001b[0m\n",
      "\u001b[34m\u001b[1mwandb\u001b[0m: Run \u001b[1m`wandb offline`\u001b[0m to turn off syncing.\n",
      "\u001b[34m\u001b[1mwandb\u001b[0m: Syncing run \u001b[33mlikely-eon-8\u001b[0m\n",
      "\u001b[34m\u001b[1mwandb\u001b[0m: ⭐️ View project at \u001b[34m\u001b[4mhttps://wandb.ai/gehadtahoon-benha-university/AG%20news%20classification\u001b[0m\n",
      "\u001b[34m\u001b[1mwandb\u001b[0m: 🚀 View run at \u001b[34m\u001b[4mhttps://wandb.ai/gehadtahoon-benha-university/AG%20news%20classification/runs/qr19qbew\u001b[0m\n"
     ]
    },
    {
     "data": {
      "text/html": [
       "<button onClick=\"this.nextSibling.style.display='block';this.style.display='none';\">Display W&B run</button><iframe src='https://wandb.ai/gehadtahoon-benha-university/AG%20news%20classification/runs/qr19qbew?jupyter=true' style='border:none;width:100%;height:420px;display:none;'></iframe>"
      ],
      "text/plain": [
       "<wandb.sdk.wandb_run.Run at 0x784da17e3690>"
      ]
     },
     "execution_count": 26,
     "metadata": {},
     "output_type": "execute_result"
    }
   ],
   "source": [
    "from kaggle_secrets import UserSecretsClient\n",
    "user_secrets = UserSecretsClient()\n",
    "secret_value_0 = user_secrets.get_secret(\"wandb key\")\n",
    "\n",
    "wandb.login(key=secret_value_0)\n",
    "wandb.init(project=\"AG news classification\")  "
   ]
  },
  {
   "cell_type": "code",
   "execution_count": 27,
   "id": "e23a64cb",
   "metadata": {
    "execution": {
     "iopub.execute_input": "2025-05-03T16:04:21.107496Z",
     "iopub.status.busy": "2025-05-03T16:04:21.106852Z",
     "iopub.status.idle": "2025-05-03T20:12:54.529909Z",
     "shell.execute_reply": "2025-05-03T20:12:54.529130Z"
    },
    "papermill": {
     "duration": 14913.440219,
     "end_time": "2025-05-03T20:12:54.531152",
     "exception": false,
     "start_time": "2025-05-03T16:04:21.090933",
     "status": "completed"
    },
    "tags": []
   },
   "outputs": [
    {
     "name": "stderr",
     "output_type": "stream",
     "text": [
      "\u001b[34m\u001b[1mwandb\u001b[0m: \u001b[33mWARNING\u001b[0m The `run_name` is currently set to the same value as `TrainingArguments.output_dir`. If this was not intended, please specify a different run name by setting the `TrainingArguments.run_name` parameter.\n"
     ]
    },
    {
     "data": {
      "text/html": [
       "\n",
       "    <div>\n",
       "      \n",
       "      <progress value='18750' max='37500' style='width:300px; height:20px; vertical-align: middle;'></progress>\n",
       "      [18750/37500 4:08:30 < 4:08:32, 1.26 it/s, Epoch 5/10]\n",
       "    </div>\n",
       "    <table border=\"1\" class=\"dataframe\">\n",
       "  <thead>\n",
       " <tr style=\"text-align: left;\">\n",
       "      <th>Epoch</th>\n",
       "      <th>Training Loss</th>\n",
       "      <th>Validation Loss</th>\n",
       "      <th>Accuracy</th>\n",
       "      <th>F1</th>\n",
       "    </tr>\n",
       "  </thead>\n",
       "  <tbody>\n",
       "    <tr>\n",
       "      <td>1</td>\n",
       "      <td>0.193500</td>\n",
       "      <td>0.195226</td>\n",
       "      <td>0.937105</td>\n",
       "      <td>0.937120</td>\n",
       "    </tr>\n",
       "    <tr>\n",
       "      <td>2</td>\n",
       "      <td>0.130700</td>\n",
       "      <td>0.202819</td>\n",
       "      <td>0.938421</td>\n",
       "      <td>0.938476</td>\n",
       "    </tr>\n",
       "    <tr>\n",
       "      <td>3</td>\n",
       "      <td>0.092900</td>\n",
       "      <td>0.217497</td>\n",
       "      <td>0.941053</td>\n",
       "      <td>0.940927</td>\n",
       "    </tr>\n",
       "    <tr>\n",
       "      <td>4</td>\n",
       "      <td>0.070800</td>\n",
       "      <td>0.290370</td>\n",
       "      <td>0.933289</td>\n",
       "      <td>0.933462</td>\n",
       "    </tr>\n",
       "    <tr>\n",
       "      <td>5</td>\n",
       "      <td>0.045000</td>\n",
       "      <td>0.328794</td>\n",
       "      <td>0.936316</td>\n",
       "      <td>0.936231</td>\n",
       "    </tr>\n",
       "  </tbody>\n",
       "</table><p>"
      ],
      "text/plain": [
       "<IPython.core.display.HTML object>"
      ]
     },
     "metadata": {},
     "output_type": "display_data"
    },
    {
     "data": {
      "text/plain": [
       "TrainOutput(global_step=18750, training_loss=0.11605275021235148, metrics={'train_runtime': 14912.4931, 'train_samples_per_second': 80.469, 'train_steps_per_second': 2.515, 'total_flos': 7.94832740352e+16, 'train_loss': 0.11605275021235148, 'epoch': 5.0})"
      ]
     },
     "execution_count": 27,
     "metadata": {},
     "output_type": "execute_result"
    }
   ],
   "source": [
    "# Create Trainer\n",
    "trainer = Trainer(\n",
    "    model=model,\n",
    "    args=training_args,\n",
    "    train_dataset=encoded_dataset,\n",
    "    eval_dataset=encoded_testing,\n",
    "    compute_metrics=compute_metrics,\n",
    "    callbacks=[EarlyStoppingCallback(early_stopping_patience=2)]\n",
    ")\n",
    "trainer.train() "
   ]
  },
  {
   "cell_type": "code",
   "execution_count": 28,
   "id": "b97ade44",
   "metadata": {
    "execution": {
     "iopub.execute_input": "2025-05-03T20:12:54.563010Z",
     "iopub.status.busy": "2025-05-03T20:12:54.562289Z",
     "iopub.status.idle": "2025-05-03T20:12:55.206229Z",
     "shell.execute_reply": "2025-05-03T20:12:55.205498Z"
    },
    "papermill": {
     "duration": 0.660704,
     "end_time": "2025-05-03T20:12:55.207364",
     "exception": false,
     "start_time": "2025-05-03T20:12:54.546660",
     "status": "completed"
    },
    "tags": []
   },
   "outputs": [
    {
     "data": {
      "text/plain": [
       "('./agnews_distilbert_model/tokenizer_config.json',\n",
       " './agnews_distilbert_model/special_tokens_map.json',\n",
       " './agnews_distilbert_model/vocab.txt',\n",
       " './agnews_distilbert_model/added_tokens.json',\n",
       " './agnews_distilbert_model/tokenizer.json')"
      ]
     },
     "execution_count": 28,
     "metadata": {},
     "output_type": "execute_result"
    }
   ],
   "source": [
    "# Save final model\n",
    "trainer.save_model(\"./agnews_distilbert_model\")\n",
    "tokenizer.save_pretrained(\"./agnews_distilbert_model\")\n"
   ]
  },
  {
   "cell_type": "markdown",
   "id": "6b90d2d3",
   "metadata": {
    "papermill": {
     "duration": 0.014861,
     "end_time": "2025-05-03T20:12:55.238148",
     "exception": false,
     "start_time": "2025-05-03T20:12:55.223287",
     "status": "completed"
    },
    "tags": []
   },
   "source": [
    "### Evaluation"
   ]
  },
  {
   "cell_type": "code",
   "execution_count": 29,
   "id": "ad88b2eb",
   "metadata": {
    "execution": {
     "iopub.execute_input": "2025-05-03T20:12:55.268424Z",
     "iopub.status.busy": "2025-05-03T20:12:55.268192Z",
     "iopub.status.idle": "2025-05-03T20:13:53.700852Z",
     "shell.execute_reply": "2025-05-03T20:13:53.700065Z"
    },
    "papermill": {
     "duration": 58.449133,
     "end_time": "2025-05-03T20:13:53.702057",
     "exception": false,
     "start_time": "2025-05-03T20:12:55.252924",
     "status": "completed"
    },
    "tags": []
   },
   "outputs": [
    {
     "data": {
      "text/html": [
       "\n",
       "    <div>\n",
       "      \n",
       "      <progress value='238' max='238' style='width:300px; height:20px; vertical-align: middle;'></progress>\n",
       "      [238/238 00:58]\n",
       "    </div>\n",
       "    "
      ],
      "text/plain": [
       "<IPython.core.display.HTML object>"
      ]
     },
     "metadata": {},
     "output_type": "display_data"
    },
    {
     "name": "stdout",
     "output_type": "stream",
     "text": [
      "Final Evaluation Results: {'eval_loss': 0.21749727427959442, 'eval_accuracy': 0.9410526315789474, 'eval_f1': 0.9409271246542078, 'eval_runtime': 58.4222, 'eval_samples_per_second': 130.087, 'eval_steps_per_second': 4.074, 'epoch': 5.0}\n"
     ]
    }
   ],
   "source": [
    "results = trainer.evaluate()\n",
    "print(\"Final Evaluation Results:\", results)"
   ]
  },
  {
   "cell_type": "markdown",
   "id": "2f24c696",
   "metadata": {
    "papermill": {
     "duration": 0.015205,
     "end_time": "2025-05-03T20:13:53.733063",
     "exception": false,
     "start_time": "2025-05-03T20:13:53.717858",
     "status": "completed"
    },
    "tags": []
   },
   "source": [
    "### Visualization"
   ]
  },
  {
   "cell_type": "code",
   "execution_count": 30,
   "id": "363648cd",
   "metadata": {
    "execution": {
     "iopub.execute_input": "2025-05-03T20:13:53.765884Z",
     "iopub.status.busy": "2025-05-03T20:13:53.765351Z",
     "iopub.status.idle": "2025-05-03T20:13:53.769397Z",
     "shell.execute_reply": "2025-05-03T20:13:53.768835Z"
    },
    "papermill": {
     "duration": 0.021842,
     "end_time": "2025-05-03T20:13:53.770410",
     "exception": false,
     "start_time": "2025-05-03T20:13:53.748568",
     "status": "completed"
    },
    "tags": []
   },
   "outputs": [],
   "source": [
    "# Training logs\n",
    "training_logs = trainer.state.log_history\n",
    "\n",
    "# Extract training loss and validation accuracy\n",
    "train_loss = [log[\"loss\"] for log in training_logs if \"loss\" in log]\n",
    "eval_acc = [log[\"eval_accuracy\"] for log in training_logs if \"eval_accuracy\" in log]"
   ]
  },
  {
   "cell_type": "code",
   "execution_count": 31,
   "id": "bc8bdac4",
   "metadata": {
    "execution": {
     "iopub.execute_input": "2025-05-03T20:13:53.801818Z",
     "iopub.status.busy": "2025-05-03T20:13:53.801338Z",
     "iopub.status.idle": "2025-05-03T20:13:54.255227Z",
     "shell.execute_reply": "2025-05-03T20:13:54.254438Z"
    },
    "papermill": {
     "duration": 0.470842,
     "end_time": "2025-05-03T20:13:54.256772",
     "exception": false,
     "start_time": "2025-05-03T20:13:53.785930",
     "status": "completed"
    },
    "tags": []
   },
   "outputs": [
    {
     "data": {
      "image/png": "[encoded data removed]",
      "text/plain": [
       "<Figure size 1200x500 with 2 Axes>"
      ]
     },
     "metadata": {},
     "output_type": "display_data"
    }
   ],
   "source": [
    "plt.figure(figsize=(12,5))\n",
    "\n",
    "# Training Loss\n",
    "plt.subplot(1,2,1)\n",
    "plt.plot(train_loss, label=\"Training Loss\")\n",
    "plt.title(\"Training Loss Curve\")\n",
    "plt.xlabel(\"Steps\")\n",
    "plt.ylabel(\"Loss\")\n",
    "plt.legend()\n",
    "\n",
    "# Validation Accuracy\n",
    "plt.subplot(1,2,2)\n",
    "plt.plot(eval_acc, label=\"Validation Accuracy\", color='orange')\n",
    "plt.title(\"Validation Accuracy Curve\")\n",
    "plt.xlabel(\"Evaluation Steps\")\n",
    "plt.ylabel(\"Accuracy\")\n",
    "plt.legend()\n",
    "\n",
    "plt.show()"
   ]
  },
  {
   "cell_type": "markdown",
   "id": "bad9b1b7",
   "metadata": {
    "papermill": {
     "duration": 0.027162,
     "end_time": "2025-05-03T20:13:54.301043",
     "exception": false,
     "start_time": "2025-05-03T20:13:54.273881",
     "status": "completed"
    },
    "tags": []
   },
   "source": [
    "### Demo"
   ]
  },
  {
   "cell_type": "code",
   "execution_count": 32,
   "id": "a3e0815c",
   "metadata": {
    "execution": {
     "iopub.execute_input": "2025-05-03T20:13:54.339607Z",
     "iopub.status.busy": "2025-05-03T20:13:54.339153Z",
     "iopub.status.idle": "2025-05-03T20:13:54.343726Z",
     "shell.execute_reply": "2025-05-03T20:13:54.343035Z"
    },
    "papermill": {
     "duration": 0.023388,
     "end_time": "2025-05-03T20:13:54.344839",
     "exception": false,
     "start_time": "2025-05-03T20:13:54.321451",
     "status": "completed"
    },
    "tags": []
   },
   "outputs": [],
   "source": [
    "def predict(texts):\n",
    "    model.eval()\n",
    "    inputs = tokenizer(texts, padding=True, truncation=True, return_tensors=\"pt\", max_length=512)\n",
    "    inputs = {key: val.to(device) for key, val in inputs.items()}\n",
    "    with torch.no_grad():\n",
    "        outputs = model(**inputs)\n",
    "    preds = torch.argmax(outputs.logits, dim=-1)\n",
    "    return preds "
   ]
  },
  {
   "cell_type": "code",
   "execution_count": 33,
   "id": "c1745f15",
   "metadata": {
    "execution": {
     "iopub.execute_input": "2025-05-03T20:13:54.379504Z",
     "iopub.status.busy": "2025-05-03T20:13:54.378916Z",
     "iopub.status.idle": "2025-05-03T20:13:54.446419Z",
     "shell.execute_reply": "2025-05-03T20:13:54.445181Z"
    },
    "papermill": {
     "duration": 0.086618,
     "end_time": "2025-05-03T20:13:54.448285",
     "exception": false,
     "start_time": "2025-05-03T20:13:54.361667",
     "status": "completed"
    },
    "tags": []
   },
   "outputs": [
    {
     "name": "stdout",
     "output_type": "stream",
     "text": [
      "\n",
      "\u001b[1mSample:\u001b[0m Photos Plus Music Equals an Expensive iPod (washingtonpost.com) washingtonpost.com - First Apple put some color on the iPod, when it offered the iPod mini in a palette of pastel hues, and now it has put some color inside it, in the form of the new iPod Photo.\n",
      "\u001b[1m\u001b[94mPredicted: \u001b[0mSci/Tech  \u001b[92m\u001b[1mActual: \u001b[0mSci/Tech\n",
      "\n",
      "\u001b[1mSample:\u001b[0m Bryant Makes First Appearance at Trial (AP) AP - NBA star Kobe Bryant arrived at his sexual assault trial Monday as attorneys in the case who spent the weekend poring over questionnaires prepared to question potential jurors individually.\n",
      "\u001b[1m\u001b[94mPredicted: \u001b[0mSports  \u001b[92m\u001b[1mActual: \u001b[0mSci/Tech\n",
      "\n",
      "\u001b[1mSample:\u001b[0m Owners Seek Best Ballpark Deal for Expos (AP) AP - Trying to get the best possible ballpark deal for the Montreal Expos, major league baseball instructed its lawyers to press ahead with negotiations involving four of the areas bidding for the team.\n",
      "\u001b[1m\u001b[94mPredicted: \u001b[0mSports  \u001b[92m\u001b[1mActual: \u001b[0mSports\n",
      "\n",
      "\u001b[1mSample:\u001b[0m Eichel Wants Strong Euro on G20 Agenda German Finance Minister Eichel called for the euro #39;s  quot;brutal quot; rise versus the dollar to be put on the agenda of the summit of G20 countries in Berlin this weekend amid concerns the greenback #39;s slide could hit EU growth.\n",
      "\u001b[1m\u001b[94mPredicted: \u001b[0mBusiness  \u001b[92m\u001b[1mActual: \u001b[0mBusiness\n",
      "\n",
      "\u001b[1mSample:\u001b[0m Vodafone targets Japan with 3G offensive Vodafone has unveiled plans for 10 new third-generation handsets for Christmas to help shore up its struggling Japanese unit. Vodafone VOD.\n",
      "\u001b[1m\u001b[94mPredicted: \u001b[0mWorld  \u001b[92m\u001b[1mActual: \u001b[0mBusiness\n",
      "\n",
      "\n"
     ]
    }
   ],
   "source": [
    "import random\n",
    "# Test random samples\n",
    "sample_indices = random.sample(range(len(test)), 5)\n",
    "\n",
    "# Create DataFrame \n",
    "df_results = pd.DataFrame([\n",
    "    {\n",
    "        'sample_text': test_data['Title'][i] + \" \" + test_data['Description'][i],\n",
    "        'actual': test_data['Class Index'][i]\n",
    "    }\n",
    "    for i in sample_indices\n",
    "])\n",
    "df_results['cleaned_text'] = df_results['sample_text'].apply(clean)\n",
    "\n",
    "df_results['predicted'] = predict(df_results['cleaned_text'].tolist()).cpu().numpy()\n",
    "\n",
    "print()\n",
    "\n",
    "# Label mapping as provided\n",
    "label_mapping = {0: \"World\", 1: \"Sports\", 2: \"Business\", 3: \"Sci/Tech\"}\n",
    "\n",
    "\n",
    "# Define color codes\n",
    "b = '\\033[94m' #Blue\n",
    "g = '\\033[92m' #Green\n",
    "r = '\\033[0m' #Reset\n",
    "B = '\\033[1m' #Bold\n",
    "\n",
    "\n",
    "for idx, row in df_results.iterrows():\n",
    "    print(f\"{B}Sample:{r} {row['sample_text']}\")\n",
    "    print(f\"{B}{b}Predicted: {r}{label_mapping[row['predicted']]}  {g}{B}Actual: {r}{label_mapping[row['actual']]}\\n\")\n",
    "\n",
    "print()"
   ]
  },
  {
   "cell_type": "code",
   "execution_count": null,
   "id": "c8627481",
   "metadata": {
    "papermill": {
     "duration": 0.016617,
     "end_time": "2025-05-03T20:13:54.493972",
     "exception": false,
     "start_time": "2025-05-03T20:13:54.477355",
     "status": "completed"
    },
    "tags": []
   },
   "outputs": [],
   "source": []
  }
 ],
 "metadata": {
  "kaggle": {
   "accelerator": "gpu",
   "dataSources": [
    {
     "datasetId": 612351,
     "sourceId": 1095715,
     "sourceType": "datasetVersion"
    }
   ],
   "dockerImageVersionId": 31012,
   "isGpuEnabled": true,
   "isInternetEnabled": true,
   "language": "python",
   "sourceType": "notebook"
  },
  "kernelspec": {
   "display_name": "Python 3",
   "language": "python",
   "name": "python3"
  },
  "language_info": {
   "codemirror_mode": {
    "name": "ipython",
    "version": 3
   },
   "file_extension": ".py",
   "mimetype": "text/x-python",
   "name": "python",
   "nbconvert_exporter": "python",
   "pygments_lexer": "ipython3",
   "version": "3.11.11"
  },
  "papermill": {
   "default_parameters": {},
   "duration": 15058.75027,
   "end_time": "2025-05-03T20:13:57.345640",
   "environment_variables": {},
   "exception": null,
   "input_path": "__notebook__.ipynb",
   "output_path": "__notebook__.ipynb",
   "parameters": {},
   "start_time": "2025-05-03T16:02:58.595370",
   "version": "2.6.0"
  },
  "widgets": {
   "application/vnd.jupyter.widget-state+json": {
    "state": {
     "037b70ff657140f291445bd8258008f1": {
      "model_module": "@jupyter-widgets/base",
      "model_module_version": "2.0.0",
      "model_name": "LayoutModel",
      "state": {
       "_model_module": "@jupyter-widgets/base",
       "_model_module_version": "2.0.0",
       "_model_name": "LayoutModel",
       "_view_count": null,
       "_view_module": "@jupyter-widgets/base",
       "_view_module_version": "2.0.0",
       "_view_name": "LayoutView",
       "align_content": null,
       "align_items": null,
       "align_self": null,
       "border_bottom": null,
       "border_left": null,
       "border_right": null,
       "border_top": null,
       "bottom": null,
       "display": null,
       "flex": null,
       "flex_flow": null,
       "grid_area": null,
       "grid_auto_columns": null,
       "grid_auto_flow": null,
       "grid_auto_rows": null,
       "grid_column": null,
       "grid_gap": null,
       "grid_row": null,
       "grid_template_areas": null,
       "grid_template_columns": null,
       "grid_template_rows": null,
       "height": null,
       "justify_content": null,
       "justify_items": null,
       "left": null,
       "margin": null,
       "max_height": null,
       "max_width": null,
       "min_height": null,
       "min_width": null,
       "object_fit": null,
       "object_position": null,
       "order": null,
       "overflow": null,
       "padding": null,
       "right": null,
       "top": null,
       "visibility": null,
       "width": null
      }
     },
     "062d5791708f4f16a8f4105fd02c4d39": {
      "model_module": "@jupyter-widgets/base",
      "model_module_version": "2.0.0",
      "model_name": "LayoutModel",
      "state": {
       "_model_module": "@jupyter-widgets/base",
       "_model_module_version": "2.0.0",
       "_model_name": "LayoutModel",
       "_view_count": null,
       "_view_module": "@jupyter-widgets/base",
       "_view_module_version": "2.0.0",
       "_view_name": "LayoutView",
       "align_content": null,
       "align_items": null,
       "align_self": null,
       "border_bottom": null,
       "border_left": null,
       "border_right": null,
       "border_top": null,
       "bottom": null,
       "display": null,
       "flex": null,
       "flex_flow": null,
       "grid_area": null,
       "grid_auto_columns": null,
       "grid_auto_flow": null,
       "grid_auto_rows": null,
       "grid_column": null,
       "grid_gap": null,
       "grid_row": null,
       "grid_template_areas": null,
       "grid_template_columns": null,
       "grid_template_rows": null,
       "height": null,
       "justify_content": null,
       "justify_items": null,
       "left": null,
       "margin": null,
       "max_height": null,
       "max_width": null,
       "min_height": null,
       "min_width": null,
       "object_fit": null,
       "object_position": null,
       "order": null,
       "overflow": null,
       "padding": null,
       "right": null,
       "top": null,
       "visibility": null,
       "width": null
      }
     },
     "0761a5a596a74e88907fd2ab0b9785cc": {
      "model_module": "@jupyter-widgets/base",
      "model_module_version": "2.0.0",
      "model_name": "LayoutModel",
      "state": {
       "_model_module": "@jupyter-widgets/base",
       "_model_module_version": "2.0.0",
       "_model_name": "LayoutModel",
       "_view_count": null,
       "_view_module": "@jupyter-widgets/base",
       "_view_module_version": "2.0.0",
       "_view_name": "LayoutView",
       "align_content": null,
       "align_items": null,
       "align_self": null,
       "border_bottom": null,
       "border_left": null,
       "border_right": null,
       "border_top": null,
       "bottom": null,
       "display": null,
       "flex": null,
       "flex_flow": null,
       "grid_area": null,
       "grid_auto_columns": null,
       "grid_auto_flow": null,
       "grid_auto_rows": null,
       "grid_column": null,
       "grid_gap": null,
       "grid_row": null,
       "grid_template_areas": null,
       "grid_template_columns": null,
       "grid_template_rows": null,
       "height": null,
       "justify_content": null,
       "justify_items": null,
       "left": null,
       "margin": null,
       "max_height": null,
       "max_width": null,
       "min_height": null,
       "min_width": null,
       "object_fit": null,
       "object_position": null,
       "order": null,
       "overflow": null,
       "padding": null,
       "right": null,
       "top": null,
       "visibility": null,
       "width": null
      }
     },
     "0b1ff2e5d0954eb3902d8fc277370c20": {
      "model_module": "@jupyter-widgets/base",
      "model_module_version": "2.0.0",
      "model_name": "LayoutModel",
      "state": {
       "_model_module": "@jupyter-widgets/base",
       "_model_module_version": "2.0.0",
       "_model_name": "LayoutModel",
       "_view_count": null,
       "_view_module": "@jupyter-widgets/base",
       "_view_module_version": "2.0.0",
       "_view_name": "LayoutView",
       "align_content": null,
       "align_items": null,
       "align_self": null,
       "border_bottom": null,
       "border_left": null,
       "border_right": null,
       "border_top": null,
       "bottom": null,
       "display": null,
       "flex": null,
       "flex_flow": null,
       "grid_area": null,
       "grid_auto_columns": null,
       "grid_auto_flow": null,
       "grid_auto_rows": null,
       "grid_column": null,
       "grid_gap": null,
       "grid_row": null,
       "grid_template_areas": null,
       "grid_template_columns": null,
       "grid_template_rows": null,
       "height": null,
       "justify_content": null,
       "justify_items": null,
       "left": null,
       "margin": null,
       "max_height": null,
       "max_width": null,
       "min_height": null,
       "min_width": null,
       "object_fit": null,
       "object_position": null,
       "order": null,
       "overflow": null,
       "padding": null,
       "right": null,
       "top": null,
       "visibility": null,
       "width": null
      }
     },
     "15b0f506e70e4265ac637b21dcabc7b5": {
      "model_module": "@jupyter-widgets/controls",
      "model_module_version": "2.0.0",
      "model_name": "HTMLModel",
      "state": {
       "_dom_classes": [],
       "_model_module": "@jupyter-widgets/controls",
       "_model_module_version": "2.0.0",
       "_model_name": "HTMLModel",
       "_view_count": null,
       "_view_module": "@jupyter-widgets/controls",
       "_view_module_version": "2.0.0",
       "_view_name": "HTMLView",
       "description": "",
       "description_allow_html": false,
       "layout": "IPY_MODEL_1f43f9f486ad4297a7b33dd667c15922",
       "placeholder": "​",
       "style": "IPY_MODEL_c6329703da1045b7b864a8942d467994",
       "tabbable": null,
       "tooltip": null,
       "value": " 7600/7600 [00:01&lt;00:00, 3973.79 examples/s]"
      }
     },
     "184afab97a01444fb90076d5ab060969": {
      "model_module": "@jupyter-widgets/base",
      "model_module_version": "2.0.0",
      "model_name": "LayoutModel",
      "state": {
       "_model_module": "@jupyter-widgets/base",
       "_model_module_version": "2.0.0",
       "_model_name": "LayoutModel",
       "_view_count": null,
       "_view_module": "@jupyter-widgets/base",
       "_view_module_version": "2.0.0",
       "_view_name": "LayoutView",
       "align_content": null,
       "align_items": null,
       "align_self": null,
       "border_bottom": null,
       "border_left": null,
       "border_right": null,
       "border_top": null,
       "bottom": null,
       "display": null,
       "flex": null,
       "flex_flow": null,
       "grid_area": null,
       "grid_auto_columns": null,
       "grid_auto_flow": null,
       "grid_auto_rows": null,
       "grid_column": null,
       "grid_gap": null,
       "grid_row": null,
       "grid_template_areas": null,
       "grid_template_columns": null,
       "grid_template_rows": null,
       "height": null,
       "justify_content": null,
       "justify_items": null,
       "left": null,
       "margin": null,
       "max_height": null,
       "max_width": null,
       "min_height": null,
       "min_width": null,
       "object_fit": null,
       "object_position": null,
       "order": null,
       "overflow": null,
       "padding": null,
       "right": null,
       "top": null,
       "visibility": null,
       "width": null
      }
     },
     "1f43f9f486ad4297a7b33dd667c15922": {
      "model_module": "@jupyter-widgets/base",
      "model_module_version": "2.0.0",
      "model_name": "LayoutModel",
      "state": {
       "_model_module": "@jupyter-widgets/base",
       "_model_module_version": "2.0.0",
       "_model_name": "LayoutModel",
       "_view_count": null,
       "_view_module": "@jupyter-widgets/base",
       "_view_module_version": "2.0.0",
       "_view_name": "LayoutView",
       "align_content": null,
       "align_items": null,
       "align_self": null,
       "border_bottom": null,
       "border_left": null,
       "border_right": null,
       "border_top": null,
       "bottom": null,
       "display": null,
       "flex": null,
       "flex_flow": null,
       "grid_area": null,
       "grid_auto_columns": null,
       "grid_auto_flow": null,
       "grid_auto_rows": null,
       "grid_column": null,
       "grid_gap": null,
       "grid_row": null,
       "grid_template_areas": null,
       "grid_template_columns": null,
       "grid_template_rows": null,
       "height": null,
       "justify_content": null,
       "justify_items": null,
       "left": null,
       "margin": null,
       "max_height": null,
       "max_width": null,
       "min_height": null,
       "min_width": null,
       "object_fit": null,
       "object_position": null,
       "order": null,
       "overflow": null,
       "padding": null,
       "right": null,
       "top": null,
       "visibility": null,
       "width": null
      }
     },
     "21b73c82f653425e96bb7cb9dfb1542c": {
      "model_module": "@jupyter-widgets/controls",
      "model_module_version": "2.0.0",
      "model_name": "HTMLStyleModel",
      "state": {
       "_model_module": "@jupyter-widgets/controls",
       "_model_module_version": "2.0.0",
       "_model_name": "HTMLStyleModel",
       "_view_count": null,
       "_view_module": "@jupyter-widgets/base",
       "_view_module_version": "2.0.0",
       "_view_name": "StyleView",
       "background": null,
       "description_width": "",
       "font_size": null,
       "text_color": null
      }
     },
     "277a7b95f82c4a67bbe93bcbc3fd796c": {
      "model_module": "@jupyter-widgets/controls",
      "model_module_version": "2.0.0",
      "model_name": "ProgressStyleModel",
      "state": {
       "_model_module": "@jupyter-widgets/controls",
       "_model_module_version": "2.0.0",
       "_model_name": "ProgressStyleModel",
       "_view_count": null,
       "_view_module": "@jupyter-widgets/base",
       "_view_module_version": "2.0.0",
       "_view_name": "StyleView",
       "bar_color": null,
       "description_width": ""
      }
     },
     "2906aad3258d477597c7f9bc95c28979": {
      "model_module": "@jupyter-widgets/base",
      "model_module_version": "2.0.0",
      "model_name": "LayoutModel",
      "state": {
       "_model_module": "@jupyter-widgets/base",
       "_model_module_version": "2.0.0",
       "_model_name": "LayoutModel",
       "_view_count": null,
       "_view_module": "@jupyter-widgets/base",
       "_view_module_version": "2.0.0",
       "_view_name": "LayoutView",
       "align_content": null,
       "align_items": null,
       "align_self": null,
       "border_bottom": null,
       "border_left": null,
       "border_right": null,
       "border_top": null,
       "bottom": null,
       "display": null,
       "flex": null,
       "flex_flow": null,
       "grid_area": null,
       "grid_auto_columns": null,
       "grid_auto_flow": null,
       "grid_auto_rows": null,
       "grid_column": null,
       "grid_gap": null,
       "grid_row": null,
       "grid_template_areas": null,
       "grid_template_columns": null,
       "grid_template_rows": null,
       "height": null,
       "justify_content": null,
       "justify_items": null,
       "left": null,
       "margin": null,
       "max_height": null,
       "max_width": null,
       "min_height": null,
       "min_width": null,
       "object_fit": null,
       "object_position": null,
       "order": null,
       "overflow": null,
       "padding": null,
       "right": null,
       "top": null,
       "visibility": null,
       "width": null
      }
     },
     "2c46757c162a44b5b8f34ab0d7c268fd": {
      "model_module": "@jupyter-widgets/controls",
      "model_module_version": "2.0.0",
      "model_name": "HTMLModel",
      "state": {
       "_dom_classes": [],
       "_model_module": "@jupyter-widgets/controls",
       "_model_module_version": "2.0.0",
       "_model_name": "HTMLModel",
       "_view_count": null,
       "_view_module": "@jupyter-widgets/controls",
       "_view_module_version": "2.0.0",
       "_view_name": "HTMLView",
       "description": "",
       "description_allow_html": false,
       "layout": "IPY_MODEL_cc855be496d34bbeab4a220ef976e433",
       "placeholder": "​",
       "style": "IPY_MODEL_da8be98a59da4e69a62e5116074b026c",
       "tabbable": null,
       "tooltip": null,
       "value": " 466k/466k [00:00&lt;00:00, 2.78MB/s]"
      }
     },
     "300bb51aba40453d8701aee9da0a0ad3": {
      "model_module": "@jupyter-widgets/controls",
      "model_module_version": "2.0.0",
      "model_name": "HTMLModel",
      "state": {
       "_dom_classes": [],
       "_model_module": "@jupyter-widgets/controls",
       "_model_module_version": "2.0.0",
       "_model_name": "HTMLModel",
       "_view_count": null,
       "_view_module": "@jupyter-widgets/controls",
       "_view_module_version": "2.0.0",
       "_view_name": "HTMLView",
       "description": "",
       "description_allow_html": false,
       "layout": "IPY_MODEL_d3107e8a520843ca9c3de783760cfbf2",
       "placeholder": "​",
       "style": "IPY_MODEL_f8b8423e318a497a905e2e3a9cf0d123",
       "tabbable": null,
       "tooltip": null,
       "value": " 232k/232k [00:00&lt;00:00, 1.43MB/s]"
      }
     },
     "38b58a8afa104f5e9be6a36747fe77af": {
      "model_module": "@jupyter-widgets/controls",
      "model_module_version": "2.0.0",
      "model_name": "FloatProgressModel",
      "state": {
       "_dom_classes": [],
       "_model_module": "@jupyter-widgets/controls",
       "_model_module_version": "2.0.0",
       "_model_name": "FloatProgressModel",
       "_view_count": null,
       "_view_module": "@jupyter-widgets/controls",
       "_view_module_version": "2.0.0",
       "_view_name": "ProgressView",
       "bar_style": "success",
       "description": "",
       "description_allow_html": false,
       "layout": "IPY_MODEL_9c56f9ee518e42ea96167692a5dcafb0",
       "max": 267954768.0,
       "min": 0.0,
       "orientation": "horizontal",
       "style": "IPY_MODEL_c1f3125167f844c38aa1ee8b9572b2fd",
       "tabbable": null,
       "tooltip": null,
       "value": 267954768.0
      }
     },
     "3f8e0d7265604e63aa0af107cd71d985": {
      "model_module": "@jupyter-widgets/base",
      "model_module_version": "2.0.0",
      "model_name": "LayoutModel",
      "state": {
       "_model_module": "@jupyter-widgets/base",
       "_model_module_version": "2.0.0",
       "_model_name": "LayoutModel",
       "_view_count": null,
       "_view_module": "@jupyter-widgets/base",
       "_view_module_version": "2.0.0",
       "_view_name": "LayoutView",
       "align_content": null,
       "align_items": null,
       "align_self": null,
       "border_bottom": null,
       "border_left": null,
       "border_right": null,
       "border_top": null,
       "bottom": null,
       "display": null,
       "flex": null,
       "flex_flow": null,
       "grid_area": null,
       "grid_auto_columns": null,
       "grid_auto_flow": null,
       "grid_auto_rows": null,
       "grid_column": null,
       "grid_gap": null,
       "grid_row": null,
       "grid_template_areas": null,
       "grid_template_columns": null,
       "grid_template_rows": null,
       "height": null,
       "justify_content": null,
       "justify_items": null,
       "left": null,
       "margin": null,
       "max_height": null,
       "max_width": null,
       "min_height": null,
       "min_width": null,
       "object_fit": null,
       "object_position": null,
       "order": null,
       "overflow": null,
       "padding": null,
       "right": null,
       "top": null,
       "visibility": null,
       "width": null
      }
     },
     "424c1799cdfa457a9b6e715af9210254": {
      "model_module": "@jupyter-widgets/controls",
      "model_module_version": "2.0.0",
      "model_name": "HBoxModel",
      "state": {
       "_dom_classes": [],
       "_model_module": "@jupyter-widgets/controls",
       "_model_module_version": "2.0.0",
       "_model_name": "HBoxModel",
       "_view_count": null,
       "_view_module": "@jupyter-widgets/controls",
       "_view_module_version": "2.0.0",
       "_view_name": "HBoxView",
       "box_style": "",
       "children": [
        "IPY_MODEL_d2fbb8b0c3b64380b6569d959e7d90db",
        "IPY_MODEL_ee045140386c43929d927b435919fe93",
        "IPY_MODEL_15b0f506e70e4265ac637b21dcabc7b5"
       ],
       "layout": "IPY_MODEL_e9ca527afc1e4c3ba34a87572097f613",
       "tabbable": null,
       "tooltip": null
      }
     },
     "4499dfc0ffc94c77b58e3c183a05ebe6": {
      "model_module": "@jupyter-widgets/base",
      "model_module_version": "2.0.0",
      "model_name": "LayoutModel",
      "state": {
       "_model_module": "@jupyter-widgets/base",
       "_model_module_version": "2.0.0",
       "_model_name": "LayoutModel",
       "_view_count": null,
       "_view_module": "@jupyter-widgets/base",
       "_view_module_version": "2.0.0",
       "_view_name": "LayoutView",
       "align_content": null,
       "align_items": null,
       "align_self": null,
       "border_bottom": null,
       "border_left": null,
       "border_right": null,
       "border_top": null,
       "bottom": null,
       "display": null,
       "flex": null,
       "flex_flow": null,
       "grid_area": null,
       "grid_auto_columns": null,
       "grid_auto_flow": null,
       "grid_auto_rows": null,
       "grid_column": null,
       "grid_gap": null,
       "grid_row": null,
       "grid_template_areas": null,
       "grid_template_columns": null,
       "grid_template_rows": null,
       "height": null,
       "justify_content": null,
       "justify_items": null,
       "left": null,
       "margin": null,
       "max_height": null,
       "max_width": null,
       "min_height": null,
       "min_width": null,
       "object_fit": null,
       "object_position": null,
       "order": null,
       "overflow": null,
       "padding": null,
       "right": null,
       "top": null,
       "visibility": null,
       "width": null
      }
     },
     "44b89b961c70455c8035210302b43472": {
      "model_module": "@jupyter-widgets/controls",
      "model_module_version": "2.0.0",
      "model_name": "ProgressStyleModel",
      "state": {
       "_model_module": "@jupyter-widgets/controls",
       "_model_module_version": "2.0.0",
       "_model_name": "ProgressStyleModel",
       "_view_count": null,
       "_view_module": "@jupyter-widgets/base",
       "_view_module_version": "2.0.0",
       "_view_name": "StyleView",
       "bar_color": null,
       "description_width": ""
      }
     },
     "45b1046efc6c4d419e70435770b09db0": {
      "model_module": "@jupyter-widgets/controls",
      "model_module_version": "2.0.0",
      "model_name": "HTMLModel",
      "state": {
       "_dom_classes": [],
       "_model_module": "@jupyter-widgets/controls",
       "_model_module_version": "2.0.0",
       "_model_name": "HTMLModel",
       "_view_count": null,
       "_view_module": "@jupyter-widgets/controls",
       "_view_module_version": "2.0.0",
       "_view_name": "HTMLView",
       "description": "",
       "description_allow_html": false,
       "layout": "IPY_MODEL_0761a5a596a74e88907fd2ab0b9785cc",
       "placeholder": "​",
       "style": "IPY_MODEL_a6c8f7b7a1c940399fed09c766163cfb",
       "tabbable": null,
       "tooltip": null,
       "value": "vocab.txt: 100%"
      }
     },
     "4f10f69dc98f4688b089c4e40f3ca595": {
      "model_module": "@jupyter-widgets/controls",
      "model_module_version": "2.0.0",
      "model_name": "HTMLModel",
      "state": {
       "_dom_classes": [],
       "_model_module": "@jupyter-widgets/controls",
       "_model_module_version": "2.0.0",
       "_model_name": "HTMLModel",
       "_view_count": null,
       "_view_module": "@jupyter-widgets/controls",
       "_view_module_version": "2.0.0",
       "_view_name": "HTMLView",
       "description": "",
       "description_allow_html": false,
       "layout": "IPY_MODEL_57c8aa7692ba4fd9a636c378a791127f",
       "placeholder": "​",
       "style": "IPY_MODEL_bbc3f45e7a044e66acf6d6083e825048",
       "tabbable": null,
       "tooltip": null,
       "value": " 120000/120000 [00:30&lt;00:00, 4022.31 examples/s]"
      }
     },
     "52954ce9e748437d8523b73585b6e421": {
      "model_module": "@jupyter-widgets/controls",
      "model_module_version": "2.0.0",
      "model_name": "HTMLStyleModel",
      "state": {
       "_model_module": "@jupyter-widgets/controls",
       "_model_module_version": "2.0.0",
       "_model_name": "HTMLStyleModel",
       "_view_count": null,
       "_view_module": "@jupyter-widgets/base",
       "_view_module_version": "2.0.0",
       "_view_name": "StyleView",
       "background": null,
       "description_width": "",
       "font_size": null,
       "text_color": null
      }
     },
     "57c8aa7692ba4fd9a636c378a791127f": {
      "model_module": "@jupyter-widgets/base",
      "model_module_version": "2.0.0",
      "model_name": "LayoutModel",
      "state": {
       "_model_module": "@jupyter-widgets/base",
       "_model_module_version": "2.0.0",
       "_model_name": "LayoutModel",
       "_view_count": null,
       "_view_module": "@jupyter-widgets/base",
       "_view_module_version": "2.0.0",
       "_view_name": "LayoutView",
       "align_content": null,
       "align_items": null,
       "align_self": null,
       "border_bottom": null,
       "border_left": null,
       "border_right": null,
       "border_top": null,
       "bottom": null,
       "display": null,
       "flex": null,
       "flex_flow": null,
       "grid_area": null,
       "grid_auto_columns": null,
       "grid_auto_flow": null,
       "grid_auto_rows": null,
       "grid_column": null,
       "grid_gap": null,
       "grid_row": null,
       "grid_template_areas": null,
       "grid_template_columns": null,
       "grid_template_rows": null,
       "height": null,
       "justify_content": null,
       "justify_items": null,
       "left": null,
       "margin": null,
       "max_height": null,
       "max_width": null,
       "min_height": null,
       "min_width": null,
       "object_fit": null,
       "object_position": null,
       "order": null,
       "overflow": null,
       "padding": null,
       "right": null,
       "top": null,
       "visibility": null,
       "width": null
      }
     },
     "597726d3eef646d1892a63385522f54a": {
      "model_module": "@jupyter-widgets/controls",
      "model_module_version": "2.0.0",
      "model_name": "HTMLModel",
      "state": {
       "_dom_classes": [],
       "_model_module": "@jupyter-widgets/controls",
       "_model_module_version": "2.0.0",
       "_model_name": "HTMLModel",
       "_view_count": null,
       "_view_module": "@jupyter-widgets/controls",
       "_view_module_version": "2.0.0",
       "_view_name": "HTMLView",
       "description": "",
       "description_allow_html": false,
       "layout": "IPY_MODEL_d16106ef3df244c7b09f69683bfba018",
       "placeholder": "​",
       "style": "IPY_MODEL_93f990ec559a4950819696dff52a1597",
       "tabbable": null,
       "tooltip": null,
       "value": "tokenizer.json: 100%"
      }
     },
     "5b8bdb3c9b474b5b8899d7407786a258": {
      "model_module": "@jupyter-widgets/base",
      "model_module_version": "2.0.0",
      "model_name": "LayoutModel",
      "state": {
       "_model_module": "@jupyter-widgets/base",
       "_model_module_version": "2.0.0",
       "_model_name": "LayoutModel",
       "_view_count": null,
       "_view_module": "@jupyter-widgets/base",
       "_view_module_version": "2.0.0",
       "_view_name": "LayoutView",
       "align_content": null,
       "align_items": null,
       "align_self": null,
       "border_bottom": null,
       "border_left": null,
       "border_right": null,
       "border_top": null,
       "bottom": null,
       "display": null,
       "flex": null,
       "flex_flow": null,
       "grid_area": null,
       "grid_auto_columns": null,
       "grid_auto_flow": null,
       "grid_auto_rows": null,
       "grid_column": null,
       "grid_gap": null,
       "grid_row": null,
       "grid_template_areas": null,
       "grid_template_columns": null,
       "grid_template_rows": null,
       "height": null,
       "justify_content": null,
       "justify_items": null,
       "left": null,
       "margin": null,
       "max_height": null,
       "max_width": null,
       "min_height": null,
       "min_width": null,
       "object_fit": null,
       "object_position": null,
       "order": null,
       "overflow": null,
       "padding": null,
       "right": null,
       "top": null,
       "visibility": null,
       "width": null
      }
     },
     "5d0d38432c574698a74099c98d81710b": {
      "model_module": "@jupyter-widgets/controls",
      "model_module_version": "2.0.0",
      "model_name": "HBoxModel",
      "state": {
       "_dom_classes": [],
       "_model_module": "@jupyter-widgets/controls",
       "_model_module_version": "2.0.0",
       "_model_name": "HBoxModel",
       "_view_count": null,
       "_view_module": "@jupyter-widgets/controls",
       "_view_module_version": "2.0.0",
       "_view_name": "HBoxView",
       "box_style": "",
       "children": [
        "IPY_MODEL_6287fd2cd6b14dc49c6fc86f61c94d04",
        "IPY_MODEL_87e8a2eac37d42398c7c8d77e08fbbb3",
        "IPY_MODEL_4f10f69dc98f4688b089c4e40f3ca595"
       ],
       "layout": "IPY_MODEL_184afab97a01444fb90076d5ab060969",
       "tabbable": null,
       "tooltip": null
      }
     },
     "5deaf6b086e24c01aea34c339cb245e4": {
      "model_module": "@jupyter-widgets/controls",
      "model_module_version": "2.0.0",
      "model_name": "HTMLStyleModel",
      "state": {
       "_model_module": "@jupyter-widgets/controls",
       "_model_module_version": "2.0.0",
       "_model_name": "HTMLStyleModel",
       "_view_count": null,
       "_view_module": "@jupyter-widgets/base",
       "_view_module_version": "2.0.0",
       "_view_name": "StyleView",
       "background": null,
       "description_width": "",
       "font_size": null,
       "text_color": null
      }
     },
     "5f6662ac81ba418494f4dca9c9cb5712": {
      "model_module": "@jupyter-widgets/base",
      "model_module_version": "2.0.0",
      "model_name": "LayoutModel",
      "state": {
       "_model_module": "@jupyter-widgets/base",
       "_model_module_version": "2.0.0",
       "_model_name": "LayoutModel",
       "_view_count": null,
       "_view_module": "@jupyter-widgets/base",
       "_view_module_version": "2.0.0",
       "_view_name": "LayoutView",
       "align_content": null,
       "align_items": null,
       "align_self": null,
       "border_bottom": null,
       "border_left": null,
       "border_right": null,
       "border_top": null,
       "bottom": null,
       "display": null,
       "flex": null,
       "flex_flow": null,
       "grid_area": null,
       "grid_auto_columns": null,
       "grid_auto_flow": null,
       "grid_auto_rows": null,
       "grid_column": null,
       "grid_gap": null,
       "grid_row": null,
       "grid_template_areas": null,
       "grid_template_columns": null,
       "grid_template_rows": null,
       "height": null,
       "justify_content": null,
       "justify_items": null,
       "left": null,
       "margin": null,
       "max_height": null,
       "max_width": null,
       "min_height": null,
       "min_width": null,
       "object_fit": null,
       "object_position": null,
       "order": null,
       "overflow": null,
       "padding": null,
       "right": null,
       "top": null,
       "visibility": null,
       "width": null
      }
     },
     "5fc7bc1efcc54a42b9302ac32f9b1076": {
      "model_module": "@jupyter-widgets/controls",
      "model_module_version": "2.0.0",
      "model_name": "HTMLModel",
      "state": {
       "_dom_classes": [],
       "_model_module": "@jupyter-widgets/controls",
       "_model_module_version": "2.0.0",
       "_model_name": "HTMLModel",
       "_view_count": null,
       "_view_module": "@jupyter-widgets/controls",
       "_view_module_version": "2.0.0",
       "_view_name": "HTMLView",
       "description": "",
       "description_allow_html": false,
       "layout": "IPY_MODEL_062d5791708f4f16a8f4105fd02c4d39",
       "placeholder": "​",
       "style": "IPY_MODEL_eac0c6b59cc94bc4a5271f3de83f8635",
       "tabbable": null,
       "tooltip": null,
       "value": "config.json: 100%"
      }
     },
     "6287fd2cd6b14dc49c6fc86f61c94d04": {
      "model_module": "@jupyter-widgets/controls",
      "model_module_version": "2.0.0",
      "model_name": "HTMLModel",
      "state": {
       "_dom_classes": [],
       "_model_module": "@jupyter-widgets/controls",
       "_model_module_version": "2.0.0",
       "_model_name": "HTMLModel",
       "_view_count": null,
       "_view_module": "@jupyter-widgets/controls",
       "_view_module_version": "2.0.0",
       "_view_name": "HTMLView",
       "description": "",
       "description_allow_html": false,
       "layout": "IPY_MODEL_5f6662ac81ba418494f4dca9c9cb5712",
       "placeholder": "​",
       "style": "IPY_MODEL_5deaf6b086e24c01aea34c339cb245e4",
       "tabbable": null,
       "tooltip": null,
       "value": "Map: 100%"
      }
     },
     "6dede6964b2e4183809625ba651e57f4": {
      "model_module": "@jupyter-widgets/controls",
      "model_module_version": "2.0.0",
      "model_name": "ProgressStyleModel",
      "state": {
       "_model_module": "@jupyter-widgets/controls",
       "_model_module_version": "2.0.0",
       "_model_name": "ProgressStyleModel",
       "_view_count": null,
       "_view_module": "@jupyter-widgets/base",
       "_view_module_version": "2.0.0",
       "_view_name": "StyleView",
       "bar_color": null,
       "description_width": ""
      }
     },
     "6dfc75a6d84545e5a02d48d8b398a771": {
      "model_module": "@jupyter-widgets/controls",
      "model_module_version": "2.0.0",
      "model_name": "ProgressStyleModel",
      "state": {
       "_model_module": "@jupyter-widgets/controls",
       "_model_module_version": "2.0.0",
       "_model_name": "ProgressStyleModel",
       "_view_count": null,
       "_view_module": "@jupyter-widgets/base",
       "_view_module_version": "2.0.0",
       "_view_name": "StyleView",
       "bar_color": null,
       "description_width": ""
      }
     },
     "6e3e865e1a6949eabaa8b640cee74c3d": {
      "model_module": "@jupyter-widgets/base",
      "model_module_version": "2.0.0",
      "model_name": "LayoutModel",
      "state": {
       "_model_module": "@jupyter-widgets/base",
       "_model_module_version": "2.0.0",
       "_model_name": "LayoutModel",
       "_view_count": null,
       "_view_module": "@jupyter-widgets/base",
       "_view_module_version": "2.0.0",
       "_view_name": "LayoutView",
       "align_content": null,
       "align_items": null,
       "align_self": null,
       "border_bottom": null,
       "border_left": null,
       "border_right": null,
       "border_top": null,
       "bottom": null,
       "display": null,
       "flex": null,
       "flex_flow": null,
       "grid_area": null,
       "grid_auto_columns": null,
       "grid_auto_flow": null,
       "grid_auto_rows": null,
       "grid_column": null,
       "grid_gap": null,
       "grid_row": null,
       "grid_template_areas": null,
       "grid_template_columns": null,
       "grid_template_rows": null,
       "height": null,
       "justify_content": null,
       "justify_items": null,
       "left": null,
       "margin": null,
       "max_height": null,
       "max_width": null,
       "min_height": null,
       "min_width": null,
       "object_fit": null,
       "object_position": null,
       "order": null,
       "overflow": null,
       "padding": null,
       "right": null,
       "top": null,
       "visibility": null,
       "width": null
      }
     },
     "70fa4c2eeebb441f889da343669969f5": {
      "model_module": "@jupyter-widgets/controls",
      "model_module_version": "2.0.0",
      "model_name": "HBoxModel",
      "state": {
       "_dom_classes": [],
       "_model_module": "@jupyter-widgets/controls",
       "_model_module_version": "2.0.0",
       "_model_name": "HBoxModel",
       "_view_count": null,
       "_view_module": "@jupyter-widgets/controls",
       "_view_module_version": "2.0.0",
       "_view_name": "HBoxView",
       "box_style": "",
       "children": [
        "IPY_MODEL_a2c9689a5adb416b8784f06869af9724",
        "IPY_MODEL_38b58a8afa104f5e9be6a36747fe77af",
        "IPY_MODEL_852ec6d0e3d84ce3bb1071a30f54e3b0"
       ],
       "layout": "IPY_MODEL_037b70ff657140f291445bd8258008f1",
       "tabbable": null,
       "tooltip": null
      }
     },
     "72911cfb8d7c45c0aa4b27d96d96010b": {
      "model_module": "@jupyter-widgets/controls",
      "model_module_version": "2.0.0",
      "model_name": "FloatProgressModel",
      "state": {
       "_dom_classes": [],
       "_model_module": "@jupyter-widgets/controls",
       "_model_module_version": "2.0.0",
       "_model_name": "FloatProgressModel",
       "_view_count": null,
       "_view_module": "@jupyter-widgets/controls",
       "_view_module_version": "2.0.0",
       "_view_name": "ProgressView",
       "bar_style": "success",
       "description": "",
       "description_allow_html": false,
       "layout": "IPY_MODEL_0b1ff2e5d0954eb3902d8fc277370c20",
       "max": 483.0,
       "min": 0.0,
       "orientation": "horizontal",
       "style": "IPY_MODEL_77bec3029e1a46e489d75fd8817c75bf",
       "tabbable": null,
       "tooltip": null,
       "value": 483.0
      }
     },
     "732df7939ff94c72ae8214f755c87817": {
      "model_module": "@jupyter-widgets/controls",
      "model_module_version": "2.0.0",
      "model_name": "HBoxModel",
      "state": {
       "_dom_classes": [],
       "_model_module": "@jupyter-widgets/controls",
       "_model_module_version": "2.0.0",
       "_model_name": "HBoxModel",
       "_view_count": null,
       "_view_module": "@jupyter-widgets/controls",
       "_view_module_version": "2.0.0",
       "_view_name": "HBoxView",
       "box_style": "",
       "children": [
        "IPY_MODEL_45b1046efc6c4d419e70435770b09db0",
        "IPY_MODEL_9c78f7151fdb48fea0525efa41f281ab",
        "IPY_MODEL_300bb51aba40453d8701aee9da0a0ad3"
       ],
       "layout": "IPY_MODEL_7f90039902d04933967e41787e36d0e5",
       "tabbable": null,
       "tooltip": null
      }
     },
     "73d51c9a38724ffcabf7aba98c0c0f35": {
      "model_module": "@jupyter-widgets/controls",
      "model_module_version": "2.0.0",
      "model_name": "HTMLStyleModel",
      "state": {
       "_model_module": "@jupyter-widgets/controls",
       "_model_module_version": "2.0.0",
       "_model_name": "HTMLStyleModel",
       "_view_count": null,
       "_view_module": "@jupyter-widgets/base",
       "_view_module_version": "2.0.0",
       "_view_name": "StyleView",
       "background": null,
       "description_width": "",
       "font_size": null,
       "text_color": null
      }
     },
     "769ad1ee7b7545828510c63a36447407": {
      "model_module": "@jupyter-widgets/base",
      "model_module_version": "2.0.0",
      "model_name": "LayoutModel",
      "state": {
       "_model_module": "@jupyter-widgets/base",
       "_model_module_version": "2.0.0",
       "_model_name": "LayoutModel",
       "_view_count": null,
       "_view_module": "@jupyter-widgets/base",
       "_view_module_version": "2.0.0",
       "_view_name": "LayoutView",
       "align_content": null,
       "align_items": null,
       "align_self": null,
       "border_bottom": null,
       "border_left": null,
       "border_right": null,
       "border_top": null,
       "bottom": null,
       "display": null,
       "flex": null,
       "flex_flow": null,
       "grid_area": null,
       "grid_auto_columns": null,
       "grid_auto_flow": null,
       "grid_auto_rows": null,
       "grid_column": null,
       "grid_gap": null,
       "grid_row": null,
       "grid_template_areas": null,
       "grid_template_columns": null,
       "grid_template_rows": null,
       "height": null,
       "justify_content": null,
       "justify_items": null,
       "left": null,
       "margin": null,
       "max_height": null,
       "max_width": null,
       "min_height": null,
       "min_width": null,
       "object_fit": null,
       "object_position": null,
       "order": null,
       "overflow": null,
       "padding": null,
       "right": null,
       "top": null,
       "visibility": null,
       "width": null
      }
     },
     "77bec3029e1a46e489d75fd8817c75bf": {
      "model_module": "@jupyter-widgets/controls",
      "model_module_version": "2.0.0",
      "model_name": "ProgressStyleModel",
      "state": {
       "_model_module": "@jupyter-widgets/controls",
       "_model_module_version": "2.0.0",
       "_model_name": "ProgressStyleModel",
       "_view_count": null,
       "_view_module": "@jupyter-widgets/base",
       "_view_module_version": "2.0.0",
       "_view_name": "StyleView",
       "bar_color": null,
       "description_width": ""
      }
     },
     "7c8dfafab8cb4e409a6d1179c355327e": {
      "model_module": "@jupyter-widgets/base",
      "model_module_version": "2.0.0",
      "model_name": "LayoutModel",
      "state": {
       "_model_module": "@jupyter-widgets/base",
       "_model_module_version": "2.0.0",
       "_model_name": "LayoutModel",
       "_view_count": null,
       "_view_module": "@jupyter-widgets/base",
       "_view_module_version": "2.0.0",
       "_view_name": "LayoutView",
       "align_content": null,
       "align_items": null,
       "align_self": null,
       "border_bottom": null,
       "border_left": null,
       "border_right": null,
       "border_top": null,
       "bottom": null,
       "display": null,
       "flex": null,
       "flex_flow": null,
       "grid_area": null,
       "grid_auto_columns": null,
       "grid_auto_flow": null,
       "grid_auto_rows": null,
       "grid_column": null,
       "grid_gap": null,
       "grid_row": null,
       "grid_template_areas": null,
       "grid_template_columns": null,
       "grid_template_rows": null,
       "height": null,
       "justify_content": null,
       "justify_items": null,
       "left": null,
       "margin": null,
       "max_height": null,
       "max_width": null,
       "min_height": null,
       "min_width": null,
       "object_fit": null,
       "object_position": null,
       "order": null,
       "overflow": null,
       "padding": null,
       "right": null,
       "top": null,
       "visibility": null,
       "width": null
      }
     },
     "7f90039902d04933967e41787e36d0e5": {
      "model_module": "@jupyter-widgets/base",
      "model_module_version": "2.0.0",
      "model_name": "LayoutModel",
      "state": {
       "_model_module": "@jupyter-widgets/base",
       "_model_module_version": "2.0.0",
       "_model_name": "LayoutModel",
       "_view_count": null,
       "_view_module": "@jupyter-widgets/base",
       "_view_module_version": "2.0.0",
       "_view_name": "LayoutView",
       "align_content": null,
       "align_items": null,
       "align_self": null,
       "border_bottom": null,
       "border_left": null,
       "border_right": null,
       "border_top": null,
       "bottom": null,
       "display": null,
       "flex": null,
       "flex_flow": null,
       "grid_area": null,
       "grid_auto_columns": null,
       "grid_auto_flow": null,
       "grid_auto_rows": null,
       "grid_column": null,
       "grid_gap": null,
       "grid_row": null,
       "grid_template_areas": null,
       "grid_template_columns": null,
       "grid_template_rows": null,
       "height": null,
       "justify_content": null,
       "justify_items": null,
       "left": null,
       "margin": null,
       "max_height": null,
       "max_width": null,
       "min_height": null,
       "min_width": null,
       "object_fit": null,
       "object_position": null,
       "order": null,
       "overflow": null,
       "padding": null,
       "right": null,
       "top": null,
       "visibility": null,
       "width": null
      }
     },
     "815f07b7484a438794ed9bdf9a663585": {
      "model_module": "@jupyter-widgets/base",
      "model_module_version": "2.0.0",
      "model_name": "LayoutModel",
      "state": {
       "_model_module": "@jupyter-widgets/base",
       "_model_module_version": "2.0.0",
       "_model_name": "LayoutModel",
       "_view_count": null,
       "_view_module": "@jupyter-widgets/base",
       "_view_module_version": "2.0.0",
       "_view_name": "LayoutView",
       "align_content": null,
       "align_items": null,
       "align_self": null,
       "border_bottom": null,
       "border_left": null,
       "border_right": null,
       "border_top": null,
       "bottom": null,
       "display": null,
       "flex": null,
       "flex_flow": null,
       "grid_area": null,
       "grid_auto_columns": null,
       "grid_auto_flow": null,
       "grid_auto_rows": null,
       "grid_column": null,
       "grid_gap": null,
       "grid_row": null,
       "grid_template_areas": null,
       "grid_template_columns": null,
       "grid_template_rows": null,
       "height": null,
       "justify_content": null,
       "justify_items": null,
       "left": null,
       "margin": null,
       "max_height": null,
       "max_width": null,
       "min_height": null,
       "min_width": null,
       "object_fit": null,
       "object_position": null,
       "order": null,
       "overflow": null,
       "padding": null,
       "right": null,
       "top": null,
       "visibility": null,
       "width": null
      }
     },
     "852ec6d0e3d84ce3bb1071a30f54e3b0": {
      "model_module": "@jupyter-widgets/controls",
      "model_module_version": "2.0.0",
      "model_name": "HTMLModel",
      "state": {
       "_dom_classes": [],
       "_model_module": "@jupyter-widgets/controls",
       "_model_module_version": "2.0.0",
       "_model_name": "HTMLModel",
       "_view_count": null,
       "_view_module": "@jupyter-widgets/controls",
       "_view_module_version": "2.0.0",
       "_view_name": "HTMLView",
       "description": "",
       "description_allow_html": false,
       "layout": "IPY_MODEL_2906aad3258d477597c7f9bc95c28979",
       "placeholder": "​",
       "style": "IPY_MODEL_21b73c82f653425e96bb7cb9dfb1542c",
       "tabbable": null,
       "tooltip": null,
       "value": " 268M/268M [00:00&lt;00:00, 286MB/s]"
      }
     },
     "87e8a2eac37d42398c7c8d77e08fbbb3": {
      "model_module": "@jupyter-widgets/controls",
      "model_module_version": "2.0.0",
      "model_name": "FloatProgressModel",
      "state": {
       "_dom_classes": [],
       "_model_module": "@jupyter-widgets/controls",
       "_model_module_version": "2.0.0",
       "_model_name": "FloatProgressModel",
       "_view_count": null,
       "_view_module": "@jupyter-widgets/controls",
       "_view_module_version": "2.0.0",
       "_view_name": "ProgressView",
       "bar_style": "success",
       "description": "",
       "description_allow_html": false,
       "layout": "IPY_MODEL_cb0f24ca9d414cd8bab273a55787a050",
       "max": 120000.0,
       "min": 0.0,
       "orientation": "horizontal",
       "style": "IPY_MODEL_6dede6964b2e4183809625ba651e57f4",
       "tabbable": null,
       "tooltip": null,
       "value": 120000.0
      }
     },
     "8dc0e688878141f19cc503ecebdf6e67": {
      "model_module": "@jupyter-widgets/controls",
      "model_module_version": "2.0.0",
      "model_name": "FloatProgressModel",
      "state": {
       "_dom_classes": [],
       "_model_module": "@jupyter-widgets/controls",
       "_model_module_version": "2.0.0",
       "_model_name": "FloatProgressModel",
       "_view_count": null,
       "_view_module": "@jupyter-widgets/controls",
       "_view_module_version": "2.0.0",
       "_view_name": "ProgressView",
       "bar_style": "success",
       "description": "",
       "description_allow_html": false,
       "layout": "IPY_MODEL_3f8e0d7265604e63aa0af107cd71d985",
       "max": 466062.0,
       "min": 0.0,
       "orientation": "horizontal",
       "style": "IPY_MODEL_277a7b95f82c4a67bbe93bcbc3fd796c",
       "tabbable": null,
       "tooltip": null,
       "value": 466062.0
      }
     },
     "9098e4227258434cb730e8f7e59d6737": {
      "model_module": "@jupyter-widgets/base",
      "model_module_version": "2.0.0",
      "model_name": "LayoutModel",
      "state": {
       "_model_module": "@jupyter-widgets/base",
       "_model_module_version": "2.0.0",
       "_model_name": "LayoutModel",
       "_view_count": null,
       "_view_module": "@jupyter-widgets/base",
       "_view_module_version": "2.0.0",
       "_view_name": "LayoutView",
       "align_content": null,
       "align_items": null,
       "align_self": null,
       "border_bottom": null,
       "border_left": null,
       "border_right": null,
       "border_top": null,
       "bottom": null,
       "display": null,
       "flex": null,
       "flex_flow": null,
       "grid_area": null,
       "grid_auto_columns": null,
       "grid_auto_flow": null,
       "grid_auto_rows": null,
       "grid_column": null,
       "grid_gap": null,
       "grid_row": null,
       "grid_template_areas": null,
       "grid_template_columns": null,
       "grid_template_rows": null,
       "height": null,
       "justify_content": null,
       "justify_items": null,
       "left": null,
       "margin": null,
       "max_height": null,
       "max_width": null,
       "min_height": null,
       "min_width": null,
       "object_fit": null,
       "object_position": null,
       "order": null,
       "overflow": null,
       "padding": null,
       "right": null,
       "top": null,
       "visibility": null,
       "width": null
      }
     },
     "93e3bade593148a4becae469edcf6d72": {
      "model_module": "@jupyter-widgets/controls",
      "model_module_version": "2.0.0",
      "model_name": "HBoxModel",
      "state": {
       "_dom_classes": [],
       "_model_module": "@jupyter-widgets/controls",
       "_model_module_version": "2.0.0",
       "_model_name": "HBoxModel",
       "_view_count": null,
       "_view_module": "@jupyter-widgets/controls",
       "_view_module_version": "2.0.0",
       "_view_name": "HBoxView",
       "box_style": "",
       "children": [
        "IPY_MODEL_b74aff522351412f9635bb849369d5a2",
        "IPY_MODEL_fda0cd989c484b629034619df6b0ffbf",
        "IPY_MODEL_a4330d9410ec4ea0baf712fc924fc1b8"
       ],
       "layout": "IPY_MODEL_4499dfc0ffc94c77b58e3c183a05ebe6",
       "tabbable": null,
       "tooltip": null
      }
     },
     "93f990ec559a4950819696dff52a1597": {
      "model_module": "@jupyter-widgets/controls",
      "model_module_version": "2.0.0",
      "model_name": "HTMLStyleModel",
      "state": {
       "_model_module": "@jupyter-widgets/controls",
       "_model_module_version": "2.0.0",
       "_model_name": "HTMLStyleModel",
       "_view_count": null,
       "_view_module": "@jupyter-widgets/base",
       "_view_module_version": "2.0.0",
       "_view_name": "StyleView",
       "background": null,
       "description_width": "",
       "font_size": null,
       "text_color": null
      }
     },
     "9c56f9ee518e42ea96167692a5dcafb0": {
      "model_module": "@jupyter-widgets/base",
      "model_module_version": "2.0.0",
      "model_name": "LayoutModel",
      "state": {
       "_model_module": "@jupyter-widgets/base",
       "_model_module_version": "2.0.0",
       "_model_name": "LayoutModel",
       "_view_count": null,
       "_view_module": "@jupyter-widgets/base",
       "_view_module_version": "2.0.0",
       "_view_name": "LayoutView",
       "align_content": null,
       "align_items": null,
       "align_self": null,
       "border_bottom": null,
       "border_left": null,
       "border_right": null,
       "border_top": null,
       "bottom": null,
       "display": null,
       "flex": null,
       "flex_flow": null,
       "grid_area": null,
       "grid_auto_columns": null,
       "grid_auto_flow": null,
       "grid_auto_rows": null,
       "grid_column": null,
       "grid_gap": null,
       "grid_row": null,
       "grid_template_areas": null,
       "grid_template_columns": null,
       "grid_template_rows": null,
       "height": null,
       "justify_content": null,
       "justify_items": null,
       "left": null,
       "margin": null,
       "max_height": null,
       "max_width": null,
       "min_height": null,
       "min_width": null,
       "object_fit": null,
       "object_position": null,
       "order": null,
       "overflow": null,
       "padding": null,
       "right": null,
       "top": null,
       "visibility": null,
       "width": null
      }
     },
     "9c78f7151fdb48fea0525efa41f281ab": {
      "model_module": "@jupyter-widgets/controls",
      "model_module_version": "2.0.0",
      "model_name": "FloatProgressModel",
      "state": {
       "_dom_classes": [],
       "_model_module": "@jupyter-widgets/controls",
       "_model_module_version": "2.0.0",
       "_model_name": "FloatProgressModel",
       "_view_count": null,
       "_view_module": "@jupyter-widgets/controls",
       "_view_module_version": "2.0.0",
       "_view_name": "ProgressView",
       "bar_style": "success",
       "description": "",
       "description_allow_html": false,
       "layout": "IPY_MODEL_a4207f28dc54405c8b91201c18ecdd73",
       "max": 231508.0,
       "min": 0.0,
       "orientation": "horizontal",
       "style": "IPY_MODEL_c35e6ed597c4406aa920cc13d51f8278",
       "tabbable": null,
       "tooltip": null,
       "value": 231508.0
      }
     },
     "a2c9689a5adb416b8784f06869af9724": {
      "model_module": "@jupyter-widgets/controls",
      "model_module_version": "2.0.0",
      "model_name": "HTMLModel",
      "state": {
       "_dom_classes": [],
       "_model_module": "@jupyter-widgets/controls",
       "_model_module_version": "2.0.0",
       "_model_name": "HTMLModel",
       "_view_count": null,
       "_view_module": "@jupyter-widgets/controls",
       "_view_module_version": "2.0.0",
       "_view_name": "HTMLView",
       "description": "",
       "description_allow_html": false,
       "layout": "IPY_MODEL_ce9d8ccf5f714d418ad097f4e842caa7",
       "placeholder": "​",
       "style": "IPY_MODEL_52954ce9e748437d8523b73585b6e421",
       "tabbable": null,
       "tooltip": null,
       "value": "model.safetensors: 100%"
      }
     },
     "a4207f28dc54405c8b91201c18ecdd73": {
      "model_module": "@jupyter-widgets/base",
      "model_module_version": "2.0.0",
      "model_name": "LayoutModel",
      "state": {
       "_model_module": "@jupyter-widgets/base",
       "_model_module_version": "2.0.0",
       "_model_name": "LayoutModel",
       "_view_count": null,
       "_view_module": "@jupyter-widgets/base",
       "_view_module_version": "2.0.0",
       "_view_name": "LayoutView",
       "align_content": null,
       "align_items": null,
       "align_self": null,
       "border_bottom": null,
       "border_left": null,
       "border_right": null,
       "border_top": null,
       "bottom": null,
       "display": null,
       "flex": null,
       "flex_flow": null,
       "grid_area": null,
       "grid_auto_columns": null,
       "grid_auto_flow": null,
       "grid_auto_rows": null,
       "grid_column": null,
       "grid_gap": null,
       "grid_row": null,
       "grid_template_areas": null,
       "grid_template_columns": null,
       "grid_template_rows": null,
       "height": null,
       "justify_content": null,
       "justify_items": null,
       "left": null,
       "margin": null,
       "max_height": null,
       "max_width": null,
       "min_height": null,
       "min_width": null,
       "object_fit": null,
       "object_position": null,
       "order": null,
       "overflow": null,
       "padding": null,
       "right": null,
       "top": null,
       "visibility": null,
       "width": null
      }
     },
     "a4330d9410ec4ea0baf712fc924fc1b8": {
      "model_module": "@jupyter-widgets/controls",
      "model_module_version": "2.0.0",
      "model_name": "HTMLModel",
      "state": {
       "_dom_classes": [],
       "_model_module": "@jupyter-widgets/controls",
       "_model_module_version": "2.0.0",
       "_model_name": "HTMLModel",
       "_view_count": null,
       "_view_module": "@jupyter-widgets/controls",
       "_view_module_version": "2.0.0",
       "_view_name": "HTMLView",
       "description": "",
       "description_allow_html": false,
       "layout": "IPY_MODEL_7c8dfafab8cb4e409a6d1179c355327e",
       "placeholder": "​",
       "style": "IPY_MODEL_f65ee9f616954d67812f19244eab4f34",
       "tabbable": null,
       "tooltip": null,
       "value": " 48.0/48.0 [00:00&lt;00:00, 5.55kB/s]"
      }
     },
     "a6c8f7b7a1c940399fed09c766163cfb": {
      "model_module": "@jupyter-widgets/controls",
      "model_module_version": "2.0.0",
      "model_name": "HTMLStyleModel",
      "state": {
       "_model_module": "@jupyter-widgets/controls",
       "_model_module_version": "2.0.0",
       "_model_name": "HTMLStyleModel",
       "_view_count": null,
       "_view_module": "@jupyter-widgets/base",
       "_view_module_version": "2.0.0",
       "_view_name": "StyleView",
       "background": null,
       "description_width": "",
       "font_size": null,
       "text_color": null
      }
     },
     "adbc17150c7e42baaad48dc0895cbbb8": {
      "model_module": "@jupyter-widgets/controls",
      "model_module_version": "2.0.0",
      "model_name": "HTMLStyleModel",
      "state": {
       "_model_module": "@jupyter-widgets/controls",
       "_model_module_version": "2.0.0",
       "_model_name": "HTMLStyleModel",
       "_view_count": null,
       "_view_module": "@jupyter-widgets/base",
       "_view_module_version": "2.0.0",
       "_view_name": "StyleView",
       "background": null,
       "description_width": "",
       "font_size": null,
       "text_color": null
      }
     },
     "b1da55a499cd40b4b7dabb42fe66b963": {
      "model_module": "@jupyter-widgets/controls",
      "model_module_version": "2.0.0",
      "model_name": "HBoxModel",
      "state": {
       "_dom_classes": [],
       "_model_module": "@jupyter-widgets/controls",
       "_model_module_version": "2.0.0",
       "_model_name": "HBoxModel",
       "_view_count": null,
       "_view_module": "@jupyter-widgets/controls",
       "_view_module_version": "2.0.0",
       "_view_name": "HBoxView",
       "box_style": "",
       "children": [
        "IPY_MODEL_5fc7bc1efcc54a42b9302ac32f9b1076",
        "IPY_MODEL_72911cfb8d7c45c0aa4b27d96d96010b",
        "IPY_MODEL_b4524c3a50054905b149913e87a7f6e8"
       ],
       "layout": "IPY_MODEL_9098e4227258434cb730e8f7e59d6737",
       "tabbable": null,
       "tooltip": null
      }
     },
     "b4524c3a50054905b149913e87a7f6e8": {
      "model_module": "@jupyter-widgets/controls",
      "model_module_version": "2.0.0",
      "model_name": "HTMLModel",
      "state": {
       "_dom_classes": [],
       "_model_module": "@jupyter-widgets/controls",
       "_model_module_version": "2.0.0",
       "_model_name": "HTMLModel",
       "_view_count": null,
       "_view_module": "@jupyter-widgets/controls",
       "_view_module_version": "2.0.0",
       "_view_name": "HTMLView",
       "description": "",
       "description_allow_html": false,
       "layout": "IPY_MODEL_5b8bdb3c9b474b5b8899d7407786a258",
       "placeholder": "​",
       "style": "IPY_MODEL_73d51c9a38724ffcabf7aba98c0c0f35",
       "tabbable": null,
       "tooltip": null,
       "value": " 483/483 [00:00&lt;00:00, 58.5kB/s]"
      }
     },
     "b74aff522351412f9635bb849369d5a2": {
      "model_module": "@jupyter-widgets/controls",
      "model_module_version": "2.0.0",
      "model_name": "HTMLModel",
      "state": {
       "_dom_classes": [],
       "_model_module": "@jupyter-widgets/controls",
       "_model_module_version": "2.0.0",
       "_model_name": "HTMLModel",
       "_view_count": null,
       "_view_module": "@jupyter-widgets/controls",
       "_view_module_version": "2.0.0",
       "_view_name": "HTMLView",
       "description": "",
       "description_allow_html": false,
       "layout": "IPY_MODEL_e30068550476407e81a7bc0c1c8c5d0c",
       "placeholder": "​",
       "style": "IPY_MODEL_adbc17150c7e42baaad48dc0895cbbb8",
       "tabbable": null,
       "tooltip": null,
       "value": "tokenizer_config.json: 100%"
      }
     },
     "b900de683de14683baf91192050db908": {
      "model_module": "@jupyter-widgets/base",
      "model_module_version": "2.0.0",
      "model_name": "LayoutModel",
      "state": {
       "_model_module": "@jupyter-widgets/base",
       "_model_module_version": "2.0.0",
       "_model_name": "LayoutModel",
       "_view_count": null,
       "_view_module": "@jupyter-widgets/base",
       "_view_module_version": "2.0.0",
       "_view_name": "LayoutView",
       "align_content": null,
       "align_items": null,
       "align_self": null,
       "border_bottom": null,
       "border_left": null,
       "border_right": null,
       "border_top": null,
       "bottom": null,
       "display": null,
       "flex": null,
       "flex_flow": null,
       "grid_area": null,
       "grid_auto_columns": null,
       "grid_auto_flow": null,
       "grid_auto_rows": null,
       "grid_column": null,
       "grid_gap": null,
       "grid_row": null,
       "grid_template_areas": null,
       "grid_template_columns": null,
       "grid_template_rows": null,
       "height": null,
       "justify_content": null,
       "justify_items": null,
       "left": null,
       "margin": null,
       "max_height": null,
       "max_width": null,
       "min_height": null,
       "min_width": null,
       "object_fit": null,
       "object_position": null,
       "order": null,
       "overflow": null,
       "padding": null,
       "right": null,
       "top": null,
       "visibility": null,
       "width": null
      }
     },
     "bbc3f45e7a044e66acf6d6083e825048": {
      "model_module": "@jupyter-widgets/controls",
      "model_module_version": "2.0.0",
      "model_name": "HTMLStyleModel",
      "state": {
       "_model_module": "@jupyter-widgets/controls",
       "_model_module_version": "2.0.0",
       "_model_name": "HTMLStyleModel",
       "_view_count": null,
       "_view_module": "@jupyter-widgets/base",
       "_view_module_version": "2.0.0",
       "_view_name": "StyleView",
       "background": null,
       "description_width": "",
       "font_size": null,
       "text_color": null
      }
     },
     "c1f3125167f844c38aa1ee8b9572b2fd": {
      "model_module": "@jupyter-widgets/controls",
      "model_module_version": "2.0.0",
      "model_name": "ProgressStyleModel",
      "state": {
       "_model_module": "@jupyter-widgets/controls",
       "_model_module_version": "2.0.0",
       "_model_name": "ProgressStyleModel",
       "_view_count": null,
       "_view_module": "@jupyter-widgets/base",
       "_view_module_version": "2.0.0",
       "_view_name": "StyleView",
       "bar_color": null,
       "description_width": ""
      }
     },
     "c35e6ed597c4406aa920cc13d51f8278": {
      "model_module": "@jupyter-widgets/controls",
      "model_module_version": "2.0.0",
      "model_name": "ProgressStyleModel",
      "state": {
       "_model_module": "@jupyter-widgets/controls",
       "_model_module_version": "2.0.0",
       "_model_name": "ProgressStyleModel",
       "_view_count": null,
       "_view_module": "@jupyter-widgets/base",
       "_view_module_version": "2.0.0",
       "_view_name": "StyleView",
       "bar_color": null,
       "description_width": ""
      }
     },
     "c6329703da1045b7b864a8942d467994": {
      "model_module": "@jupyter-widgets/controls",
      "model_module_version": "2.0.0",
      "model_name": "HTMLStyleModel",
      "state": {
       "_model_module": "@jupyter-widgets/controls",
       "_model_module_version": "2.0.0",
       "_model_name": "HTMLStyleModel",
       "_view_count": null,
       "_view_module": "@jupyter-widgets/base",
       "_view_module_version": "2.0.0",
       "_view_name": "StyleView",
       "background": null,
       "description_width": "",
       "font_size": null,
       "text_color": null
      }
     },
     "cb0f24ca9d414cd8bab273a55787a050": {
      "model_module": "@jupyter-widgets/base",
      "model_module_version": "2.0.0",
      "model_name": "LayoutModel",
      "state": {
       "_model_module": "@jupyter-widgets/base",
       "_model_module_version": "2.0.0",
       "_model_name": "LayoutModel",
       "_view_count": null,
       "_view_module": "@jupyter-widgets/base",
       "_view_module_version": "2.0.0",
       "_view_name": "LayoutView",
       "align_content": null,
       "align_items": null,
       "align_self": null,
       "border_bottom": null,
       "border_left": null,
       "border_right": null,
       "border_top": null,
       "bottom": null,
       "display": null,
       "flex": null,
       "flex_flow": null,
       "grid_area": null,
       "grid_auto_columns": null,
       "grid_auto_flow": null,
       "grid_auto_rows": null,
       "grid_column": null,
       "grid_gap": null,
       "grid_row": null,
       "grid_template_areas": null,
       "grid_template_columns": null,
       "grid_template_rows": null,
       "height": null,
       "justify_content": null,
       "justify_items": null,
       "left": null,
       "margin": null,
       "max_height": null,
       "max_width": null,
       "min_height": null,
       "min_width": null,
       "object_fit": null,
       "object_position": null,
       "order": null,
       "overflow": null,
       "padding": null,
       "right": null,
       "top": null,
       "visibility": null,
       "width": null
      }
     },
     "cc855be496d34bbeab4a220ef976e433": {
      "model_module": "@jupyter-widgets/base",
      "model_module_version": "2.0.0",
      "model_name": "LayoutModel",
      "state": {
       "_model_module": "@jupyter-widgets/base",
       "_model_module_version": "2.0.0",
       "_model_name": "LayoutModel",
       "_view_count": null,
       "_view_module": "@jupyter-widgets/base",
       "_view_module_version": "2.0.0",
       "_view_name": "LayoutView",
       "align_content": null,
       "align_items": null,
       "align_self": null,
       "border_bottom": null,
       "border_left": null,
       "border_right": null,
       "border_top": null,
       "bottom": null,
       "display": null,
       "flex": null,
       "flex_flow": null,
       "grid_area": null,
       "grid_auto_columns": null,
       "grid_auto_flow": null,
       "grid_auto_rows": null,
       "grid_column": null,
       "grid_gap": null,
       "grid_row": null,
       "grid_template_areas": null,
       "grid_template_columns": null,
       "grid_template_rows": null,
       "height": null,
       "justify_content": null,
       "justify_items": null,
       "left": null,
       "margin": null,
       "max_height": null,
       "max_width": null,
       "min_height": null,
       "min_width": null,
       "object_fit": null,
       "object_position": null,
       "order": null,
       "overflow": null,
       "padding": null,
       "right": null,
       "top": null,
       "visibility": null,
       "width": null
      }
     },
     "ce9d8ccf5f714d418ad097f4e842caa7": {
      "model_module": "@jupyter-widgets/base",
      "model_module_version": "2.0.0",
      "model_name": "LayoutModel",
      "state": {
       "_model_module": "@jupyter-widgets/base",
       "_model_module_version": "2.0.0",
       "_model_name": "LayoutModel",
       "_view_count": null,
       "_view_module": "@jupyter-widgets/base",
       "_view_module_version": "2.0.0",
       "_view_name": "LayoutView",
       "align_content": null,
       "align_items": null,
       "align_self": null,
       "border_bottom": null,
       "border_left": null,
       "border_right": null,
       "border_top": null,
       "bottom": null,
       "display": null,
       "flex": null,
       "flex_flow": null,
       "grid_area": null,
       "grid_auto_columns": null,
       "grid_auto_flow": null,
       "grid_auto_rows": null,
       "grid_column": null,
       "grid_gap": null,
       "grid_row": null,
       "grid_template_areas": null,
       "grid_template_columns": null,
       "grid_template_rows": null,
       "height": null,
       "justify_content": null,
       "justify_items": null,
       "left": null,
       "margin": null,
       "max_height": null,
       "max_width": null,
       "min_height": null,
       "min_width": null,
       "object_fit": null,
       "object_position": null,
       "order": null,
       "overflow": null,
       "padding": null,
       "right": null,
       "top": null,
       "visibility": null,
       "width": null
      }
     },
     "d16106ef3df244c7b09f69683bfba018": {
      "model_module": "@jupyter-widgets/base",
      "model_module_version": "2.0.0",
      "model_name": "LayoutModel",
      "state": {
       "_model_module": "@jupyter-widgets/base",
       "_model_module_version": "2.0.0",
       "_model_name": "LayoutModel",
       "_view_count": null,
       "_view_module": "@jupyter-widgets/base",
       "_view_module_version": "2.0.0",
       "_view_name": "LayoutView",
       "align_content": null,
       "align_items": null,
       "align_self": null,
       "border_bottom": null,
       "border_left": null,
       "border_right": null,
       "border_top": null,
       "bottom": null,
       "display": null,
       "flex": null,
       "flex_flow": null,
       "grid_area": null,
       "grid_auto_columns": null,
       "grid_auto_flow": null,
       "grid_auto_rows": null,
       "grid_column": null,
       "grid_gap": null,
       "grid_row": null,
       "grid_template_areas": null,
       "grid_template_columns": null,
       "grid_template_rows": null,
       "height": null,
       "justify_content": null,
       "justify_items": null,
       "left": null,
       "margin": null,
       "max_height": null,
       "max_width": null,
       "min_height": null,
       "min_width": null,
       "object_fit": null,
       "object_position": null,
       "order": null,
       "overflow": null,
       "padding": null,
       "right": null,
       "top": null,
       "visibility": null,
       "width": null
      }
     },
     "d2fbb8b0c3b64380b6569d959e7d90db": {
      "model_module": "@jupyter-widgets/controls",
      "model_module_version": "2.0.0",
      "model_name": "HTMLModel",
      "state": {
       "_dom_classes": [],
       "_model_module": "@jupyter-widgets/controls",
       "_model_module_version": "2.0.0",
       "_model_name": "HTMLModel",
       "_view_count": null,
       "_view_module": "@jupyter-widgets/controls",
       "_view_module_version": "2.0.0",
       "_view_name": "HTMLView",
       "description": "",
       "description_allow_html": false,
       "layout": "IPY_MODEL_6e3e865e1a6949eabaa8b640cee74c3d",
       "placeholder": "​",
       "style": "IPY_MODEL_fb8628d5f9a04e7ba5831b3cc6d71d3b",
       "tabbable": null,
       "tooltip": null,
       "value": "Map: 100%"
      }
     },
     "d3107e8a520843ca9c3de783760cfbf2": {
      "model_module": "@jupyter-widgets/base",
      "model_module_version": "2.0.0",
      "model_name": "LayoutModel",
      "state": {
       "_model_module": "@jupyter-widgets/base",
       "_model_module_version": "2.0.0",
       "_model_name": "LayoutModel",
       "_view_count": null,
       "_view_module": "@jupyter-widgets/base",
       "_view_module_version": "2.0.0",
       "_view_name": "LayoutView",
       "align_content": null,
       "align_items": null,
       "align_self": null,
       "border_bottom": null,
       "border_left": null,
       "border_right": null,
       "border_top": null,
       "bottom": null,
       "display": null,
       "flex": null,
       "flex_flow": null,
       "grid_area": null,
       "grid_auto_columns": null,
       "grid_auto_flow": null,
       "grid_auto_rows": null,
       "grid_column": null,
       "grid_gap": null,
       "grid_row": null,
       "grid_template_areas": null,
       "grid_template_columns": null,
       "grid_template_rows": null,
       "height": null,
       "justify_content": null,
       "justify_items": null,
       "left": null,
       "margin": null,
       "max_height": null,
       "max_width": null,
       "min_height": null,
       "min_width": null,
       "object_fit": null,
       "object_position": null,
       "order": null,
       "overflow": null,
       "padding": null,
       "right": null,
       "top": null,
       "visibility": null,
       "width": null
      }
     },
     "da8be98a59da4e69a62e5116074b026c": {
      "model_module": "@jupyter-widgets/controls",
      "model_module_version": "2.0.0",
      "model_name": "HTMLStyleModel",
      "state": {
       "_model_module": "@jupyter-widgets/controls",
       "_model_module_version": "2.0.0",
       "_model_name": "HTMLStyleModel",
       "_view_count": null,
       "_view_module": "@jupyter-widgets/base",
       "_view_module_version": "2.0.0",
       "_view_name": "StyleView",
       "background": null,
       "description_width": "",
       "font_size": null,
       "text_color": null
      }
     },
     "e30068550476407e81a7bc0c1c8c5d0c": {
      "model_module": "@jupyter-widgets/base",
      "model_module_version": "2.0.0",
      "model_name": "LayoutModel",
      "state": {
       "_model_module": "@jupyter-widgets/base",
       "_model_module_version": "2.0.0",
       "_model_name": "LayoutModel",
       "_view_count": null,
       "_view_module": "@jupyter-widgets/base",
       "_view_module_version": "2.0.0",
       "_view_name": "LayoutView",
       "align_content": null,
       "align_items": null,
       "align_self": null,
       "border_bottom": null,
       "border_left": null,
       "border_right": null,
       "border_top": null,
       "bottom": null,
       "display": null,
       "flex": null,
       "flex_flow": null,
       "grid_area": null,
       "grid_auto_columns": null,
       "grid_auto_flow": null,
       "grid_auto_rows": null,
       "grid_column": null,
       "grid_gap": null,
       "grid_row": null,
       "grid_template_areas": null,
       "grid_template_columns": null,
       "grid_template_rows": null,
       "height": null,
       "justify_content": null,
       "justify_items": null,
       "left": null,
       "margin": null,
       "max_height": null,
       "max_width": null,
       "min_height": null,
       "min_width": null,
       "object_fit": null,
       "object_position": null,
       "order": null,
       "overflow": null,
       "padding": null,
       "right": null,
       "top": null,
       "visibility": null,
       "width": null
      }
     },
     "e4ee9bb0edc441a8be65c584813c3d01": {
      "model_module": "@jupyter-widgets/controls",
      "model_module_version": "2.0.0",
      "model_name": "HBoxModel",
      "state": {
       "_dom_classes": [],
       "_model_module": "@jupyter-widgets/controls",
       "_model_module_version": "2.0.0",
       "_model_name": "HBoxModel",
       "_view_count": null,
       "_view_module": "@jupyter-widgets/controls",
       "_view_module_version": "2.0.0",
       "_view_name": "HBoxView",
       "box_style": "",
       "children": [
        "IPY_MODEL_597726d3eef646d1892a63385522f54a",
        "IPY_MODEL_8dc0e688878141f19cc503ecebdf6e67",
        "IPY_MODEL_2c46757c162a44b5b8f34ab0d7c268fd"
       ],
       "layout": "IPY_MODEL_b900de683de14683baf91192050db908",
       "tabbable": null,
       "tooltip": null
      }
     },
     "e9ca527afc1e4c3ba34a87572097f613": {
      "model_module": "@jupyter-widgets/base",
      "model_module_version": "2.0.0",
      "model_name": "LayoutModel",
      "state": {
       "_model_module": "@jupyter-widgets/base",
       "_model_module_version": "2.0.0",
       "_model_name": "LayoutModel",
       "_view_count": null,
       "_view_module": "@jupyter-widgets/base",
       "_view_module_version": "2.0.0",
       "_view_name": "LayoutView",
       "align_content": null,
       "align_items": null,
       "align_self": null,
       "border_bottom": null,
       "border_left": null,
       "border_right": null,
       "border_top": null,
       "bottom": null,
       "display": null,
       "flex": null,
       "flex_flow": null,
       "grid_area": null,
       "grid_auto_columns": null,
       "grid_auto_flow": null,
       "grid_auto_rows": null,
       "grid_column": null,
       "grid_gap": null,
       "grid_row": null,
       "grid_template_areas": null,
       "grid_template_columns": null,
       "grid_template_rows": null,
       "height": null,
       "justify_content": null,
       "justify_items": null,
       "left": null,
       "margin": null,
       "max_height": null,
       "max_width": null,
       "min_height": null,
       "min_width": null,
       "object_fit": null,
       "object_position": null,
       "order": null,
       "overflow": null,
       "padding": null,
       "right": null,
       "top": null,
       "visibility": null,
       "width": null
      }
     },
     "eac0c6b59cc94bc4a5271f3de83f8635": {
      "model_module": "@jupyter-widgets/controls",
      "model_module_version": "2.0.0",
      "model_name": "HTMLStyleModel",
      "state": {
       "_model_module": "@jupyter-widgets/controls",
       "_model_module_version": "2.0.0",
       "_model_name": "HTMLStyleModel",
       "_view_count": null,
       "_view_module": "@jupyter-widgets/base",
       "_view_module_version": "2.0.0",
       "_view_name": "StyleView",
       "background": null,
       "description_width": "",
       "font_size": null,
       "text_color": null
      }
     },
     "ee045140386c43929d927b435919fe93": {
      "model_module": "@jupyter-widgets/controls",
      "model_module_version": "2.0.0",
      "model_name": "FloatProgressModel",
      "state": {
       "_dom_classes": [],
       "_model_module": "@jupyter-widgets/controls",
       "_model_module_version": "2.0.0",
       "_model_name": "FloatProgressModel",
       "_view_count": null,
       "_view_module": "@jupyter-widgets/controls",
       "_view_module_version": "2.0.0",
       "_view_name": "ProgressView",
       "bar_style": "success",
       "description": "",
       "description_allow_html": false,
       "layout": "IPY_MODEL_769ad1ee7b7545828510c63a36447407",
       "max": 7600.0,
       "min": 0.0,
       "orientation": "horizontal",
       "style": "IPY_MODEL_44b89b961c70455c8035210302b43472",
       "tabbable": null,
       "tooltip": null,
       "value": 7600.0
      }
     },
     "f65ee9f616954d67812f19244eab4f34": {
      "model_module": "@jupyter-widgets/controls",
      "model_module_version": "2.0.0",
      "model_name": "HTMLStyleModel",
      "state": {
       "_model_module": "@jupyter-widgets/controls",
       "_model_module_version": "2.0.0",
       "_model_name": "HTMLStyleModel",
       "_view_count": null,
       "_view_module": "@jupyter-widgets/base",
       "_view_module_version": "2.0.0",
       "_view_name": "StyleView",
       "background": null,
       "description_width": "",
       "font_size": null,
       "text_color": null
      }
     },
     "f8b8423e318a497a905e2e3a9cf0d123": {
      "model_module": "@jupyter-widgets/controls",
      "model_module_version": "2.0.0",
      "model_name": "HTMLStyleModel",
      "state": {
       "_model_module": "@jupyter-widgets/controls",
       "_model_module_version": "2.0.0",
       "_model_name": "HTMLStyleModel",
       "_view_count": null,
       "_view_module": "@jupyter-widgets/base",
       "_view_module_version": "2.0.0",
       "_view_name": "StyleView",
       "background": null,
       "description_width": "",
       "font_size": null,
       "text_color": null
      }
     },
     "fb8628d5f9a04e7ba5831b3cc6d71d3b": {
      "model_module": "@jupyter-widgets/controls",
      "model_module_version": "2.0.0",
      "model_name": "HTMLStyleModel",
      "state": {
       "_model_module": "@jupyter-widgets/controls",
       "_model_module_version": "2.0.0",
       "_model_name": "HTMLStyleModel",
       "_view_count": null,
       "_view_module": "@jupyter-widgets/base",
       "_view_module_version": "2.0.0",
       "_view_name": "StyleView",
       "background": null,
       "description_width": "",
       "font_size": null,
       "text_color": null
      }
     },
     "fda0cd989c484b629034619df6b0ffbf": {
      "model_module": "@jupyter-widgets/controls",
      "model_module_version": "2.0.0",
      "model_name": "FloatProgressModel",
      "state": {
       "_dom_classes": [],
       "_model_module": "@jupyter-widgets/controls",
       "_model_module_version": "2.0.0",
       "_model_name": "FloatProgressModel",
       "_view_count": null,
       "_view_module": "@jupyter-widgets/controls",
       "_view_module_version": "2.0.0",
       "_view_name": "ProgressView",
       "bar_style": "success",
       "description": "",
       "description_allow_html": false,
       "layout": "IPY_MODEL_815f07b7484a438794ed9bdf9a663585",
       "max": 48.0,
       "min": 0.0,
       "orientation": "horizontal",
       "style": "IPY_MODEL_6dfc75a6d84545e5a02d48d8b398a771",
       "tabbable": null,
       "tooltip": null,
       "value": 48.0
      }
     }
    },
    "version_major": 2,
    "version_minor": 0
   }
  }
 },
 "nbformat": 4,
 "nbformat_minor": 5
}
